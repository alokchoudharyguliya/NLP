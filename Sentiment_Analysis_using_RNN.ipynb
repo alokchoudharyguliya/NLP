{
  "nbformat": 4,
  "nbformat_minor": 0,
  "metadata": {
    "colab": {
      "provenance": [],
      "gpuType": "T4",
      "authorship_tag": "ABX9TyNUX9/B8pRnIaa/UfCqfPVe",
      "include_colab_link": true
    },
    "kernelspec": {
      "name": "python3",
      "display_name": "Python 3"
    },
    "language_info": {
      "name": "python"
    },
    "widgets": {
      "application/vnd.jupyter.widget-state+json": {
        "df21267b66144ea0920213c621d87231": {
          "model_module": "@jupyter-widgets/controls",
          "model_name": "HBoxModel",
          "model_module_version": "1.5.0",
          "state": {
            "_dom_classes": [],
            "_model_module": "@jupyter-widgets/controls",
            "_model_module_version": "1.5.0",
            "_model_name": "HBoxModel",
            "_view_count": null,
            "_view_module": "@jupyter-widgets/controls",
            "_view_module_version": "1.5.0",
            "_view_name": "HBoxView",
            "box_style": "",
            "children": [
              "IPY_MODEL_a8289f8547b64a3785012804618657aa",
              "IPY_MODEL_377d011ed9624346befc9f8c3637e5b2",
              "IPY_MODEL_dce673fb6eab42b49efa6ade9af30454"
            ],
            "layout": "IPY_MODEL_2fa0f755c57941e0ad195fbc4d65e084"
          }
        },
        "a8289f8547b64a3785012804618657aa": {
          "model_module": "@jupyter-widgets/controls",
          "model_name": "HTMLModel",
          "model_module_version": "1.5.0",
          "state": {
            "_dom_classes": [],
            "_model_module": "@jupyter-widgets/controls",
            "_model_module_version": "1.5.0",
            "_model_name": "HTMLModel",
            "_view_count": null,
            "_view_module": "@jupyter-widgets/controls",
            "_view_module_version": "1.5.0",
            "_view_name": "HTMLView",
            "description": "",
            "description_tooltip": null,
            "layout": "IPY_MODEL_ecfaf37da2524c428281c307ab4ac2a3",
            "placeholder": "​",
            "style": "IPY_MODEL_065dd27971124e87934799397ef0cb30",
            "value": "Dl Completed...: 100%"
          }
        },
        "377d011ed9624346befc9f8c3637e5b2": {
          "model_module": "@jupyter-widgets/controls",
          "model_name": "FloatProgressModel",
          "model_module_version": "1.5.0",
          "state": {
            "_dom_classes": [],
            "_model_module": "@jupyter-widgets/controls",
            "_model_module_version": "1.5.0",
            "_model_name": "FloatProgressModel",
            "_view_count": null,
            "_view_module": "@jupyter-widgets/controls",
            "_view_module_version": "1.5.0",
            "_view_name": "ProgressView",
            "bar_style": "success",
            "description": "",
            "description_tooltip": null,
            "layout": "IPY_MODEL_cc4deb3c70fe4a5eaa08990623b23442",
            "max": 1,
            "min": 0,
            "orientation": "horizontal",
            "style": "IPY_MODEL_5ddfe6fca49a41168627390efb727d61",
            "value": 1
          }
        },
        "dce673fb6eab42b49efa6ade9af30454": {
          "model_module": "@jupyter-widgets/controls",
          "model_name": "HTMLModel",
          "model_module_version": "1.5.0",
          "state": {
            "_dom_classes": [],
            "_model_module": "@jupyter-widgets/controls",
            "_model_module_version": "1.5.0",
            "_model_name": "HTMLModel",
            "_view_count": null,
            "_view_module": "@jupyter-widgets/controls",
            "_view_module_version": "1.5.0",
            "_view_name": "HTMLView",
            "description": "",
            "description_tooltip": null,
            "layout": "IPY_MODEL_649fa1a70ddb4722870cb893abe24bcf",
            "placeholder": "​",
            "style": "IPY_MODEL_5fc2514f82bb495abfd6f88cd82a5820",
            "value": " 1/1 [00:19&lt;00:00, 19.21s/ url]"
          }
        },
        "2fa0f755c57941e0ad195fbc4d65e084": {
          "model_module": "@jupyter-widgets/base",
          "model_name": "LayoutModel",
          "model_module_version": "1.2.0",
          "state": {
            "_model_module": "@jupyter-widgets/base",
            "_model_module_version": "1.2.0",
            "_model_name": "LayoutModel",
            "_view_count": null,
            "_view_module": "@jupyter-widgets/base",
            "_view_module_version": "1.2.0",
            "_view_name": "LayoutView",
            "align_content": null,
            "align_items": null,
            "align_self": null,
            "border": null,
            "bottom": null,
            "display": null,
            "flex": null,
            "flex_flow": null,
            "grid_area": null,
            "grid_auto_columns": null,
            "grid_auto_flow": null,
            "grid_auto_rows": null,
            "grid_column": null,
            "grid_gap": null,
            "grid_row": null,
            "grid_template_areas": null,
            "grid_template_columns": null,
            "grid_template_rows": null,
            "height": null,
            "justify_content": null,
            "justify_items": null,
            "left": null,
            "margin": null,
            "max_height": null,
            "max_width": null,
            "min_height": null,
            "min_width": null,
            "object_fit": null,
            "object_position": null,
            "order": null,
            "overflow": null,
            "overflow_x": null,
            "overflow_y": null,
            "padding": null,
            "right": null,
            "top": null,
            "visibility": null,
            "width": null
          }
        },
        "ecfaf37da2524c428281c307ab4ac2a3": {
          "model_module": "@jupyter-widgets/base",
          "model_name": "LayoutModel",
          "model_module_version": "1.2.0",
          "state": {
            "_model_module": "@jupyter-widgets/base",
            "_model_module_version": "1.2.0",
            "_model_name": "LayoutModel",
            "_view_count": null,
            "_view_module": "@jupyter-widgets/base",
            "_view_module_version": "1.2.0",
            "_view_name": "LayoutView",
            "align_content": null,
            "align_items": null,
            "align_self": null,
            "border": null,
            "bottom": null,
            "display": null,
            "flex": null,
            "flex_flow": null,
            "grid_area": null,
            "grid_auto_columns": null,
            "grid_auto_flow": null,
            "grid_auto_rows": null,
            "grid_column": null,
            "grid_gap": null,
            "grid_row": null,
            "grid_template_areas": null,
            "grid_template_columns": null,
            "grid_template_rows": null,
            "height": null,
            "justify_content": null,
            "justify_items": null,
            "left": null,
            "margin": null,
            "max_height": null,
            "max_width": null,
            "min_height": null,
            "min_width": null,
            "object_fit": null,
            "object_position": null,
            "order": null,
            "overflow": null,
            "overflow_x": null,
            "overflow_y": null,
            "padding": null,
            "right": null,
            "top": null,
            "visibility": null,
            "width": null
          }
        },
        "065dd27971124e87934799397ef0cb30": {
          "model_module": "@jupyter-widgets/controls",
          "model_name": "DescriptionStyleModel",
          "model_module_version": "1.5.0",
          "state": {
            "_model_module": "@jupyter-widgets/controls",
            "_model_module_version": "1.5.0",
            "_model_name": "DescriptionStyleModel",
            "_view_count": null,
            "_view_module": "@jupyter-widgets/base",
            "_view_module_version": "1.2.0",
            "_view_name": "StyleView",
            "description_width": ""
          }
        },
        "cc4deb3c70fe4a5eaa08990623b23442": {
          "model_module": "@jupyter-widgets/base",
          "model_name": "LayoutModel",
          "model_module_version": "1.2.0",
          "state": {
            "_model_module": "@jupyter-widgets/base",
            "_model_module_version": "1.2.0",
            "_model_name": "LayoutModel",
            "_view_count": null,
            "_view_module": "@jupyter-widgets/base",
            "_view_module_version": "1.2.0",
            "_view_name": "LayoutView",
            "align_content": null,
            "align_items": null,
            "align_self": null,
            "border": null,
            "bottom": null,
            "display": null,
            "flex": null,
            "flex_flow": null,
            "grid_area": null,
            "grid_auto_columns": null,
            "grid_auto_flow": null,
            "grid_auto_rows": null,
            "grid_column": null,
            "grid_gap": null,
            "grid_row": null,
            "grid_template_areas": null,
            "grid_template_columns": null,
            "grid_template_rows": null,
            "height": null,
            "justify_content": null,
            "justify_items": null,
            "left": null,
            "margin": null,
            "max_height": null,
            "max_width": null,
            "min_height": null,
            "min_width": null,
            "object_fit": null,
            "object_position": null,
            "order": null,
            "overflow": null,
            "overflow_x": null,
            "overflow_y": null,
            "padding": null,
            "right": null,
            "top": null,
            "visibility": null,
            "width": "20px"
          }
        },
        "5ddfe6fca49a41168627390efb727d61": {
          "model_module": "@jupyter-widgets/controls",
          "model_name": "ProgressStyleModel",
          "model_module_version": "1.5.0",
          "state": {
            "_model_module": "@jupyter-widgets/controls",
            "_model_module_version": "1.5.0",
            "_model_name": "ProgressStyleModel",
            "_view_count": null,
            "_view_module": "@jupyter-widgets/base",
            "_view_module_version": "1.2.0",
            "_view_name": "StyleView",
            "bar_color": null,
            "description_width": ""
          }
        },
        "649fa1a70ddb4722870cb893abe24bcf": {
          "model_module": "@jupyter-widgets/base",
          "model_name": "LayoutModel",
          "model_module_version": "1.2.0",
          "state": {
            "_model_module": "@jupyter-widgets/base",
            "_model_module_version": "1.2.0",
            "_model_name": "LayoutModel",
            "_view_count": null,
            "_view_module": "@jupyter-widgets/base",
            "_view_module_version": "1.2.0",
            "_view_name": "LayoutView",
            "align_content": null,
            "align_items": null,
            "align_self": null,
            "border": null,
            "bottom": null,
            "display": null,
            "flex": null,
            "flex_flow": null,
            "grid_area": null,
            "grid_auto_columns": null,
            "grid_auto_flow": null,
            "grid_auto_rows": null,
            "grid_column": null,
            "grid_gap": null,
            "grid_row": null,
            "grid_template_areas": null,
            "grid_template_columns": null,
            "grid_template_rows": null,
            "height": null,
            "justify_content": null,
            "justify_items": null,
            "left": null,
            "margin": null,
            "max_height": null,
            "max_width": null,
            "min_height": null,
            "min_width": null,
            "object_fit": null,
            "object_position": null,
            "order": null,
            "overflow": null,
            "overflow_x": null,
            "overflow_y": null,
            "padding": null,
            "right": null,
            "top": null,
            "visibility": null,
            "width": null
          }
        },
        "5fc2514f82bb495abfd6f88cd82a5820": {
          "model_module": "@jupyter-widgets/controls",
          "model_name": "DescriptionStyleModel",
          "model_module_version": "1.5.0",
          "state": {
            "_model_module": "@jupyter-widgets/controls",
            "_model_module_version": "1.5.0",
            "_model_name": "DescriptionStyleModel",
            "_view_count": null,
            "_view_module": "@jupyter-widgets/base",
            "_view_module_version": "1.2.0",
            "_view_name": "StyleView",
            "description_width": ""
          }
        },
        "a07f3f70d3a240c99a566fb0c6de00cc": {
          "model_module": "@jupyter-widgets/controls",
          "model_name": "HBoxModel",
          "model_module_version": "1.5.0",
          "state": {
            "_dom_classes": [],
            "_model_module": "@jupyter-widgets/controls",
            "_model_module_version": "1.5.0",
            "_model_name": "HBoxModel",
            "_view_count": null,
            "_view_module": "@jupyter-widgets/controls",
            "_view_module_version": "1.5.0",
            "_view_name": "HBoxView",
            "box_style": "",
            "children": [
              "IPY_MODEL_363f13ea9e884dc6a014cc50d6cbb733",
              "IPY_MODEL_23fc459c1c9f42c2a88f983809243f98",
              "IPY_MODEL_b0fb8e47232742b3a8fab61937840d28"
            ],
            "layout": "IPY_MODEL_a4bee186b0674c3ba6fe86bad948e03c"
          }
        },
        "363f13ea9e884dc6a014cc50d6cbb733": {
          "model_module": "@jupyter-widgets/controls",
          "model_name": "HTMLModel",
          "model_module_version": "1.5.0",
          "state": {
            "_dom_classes": [],
            "_model_module": "@jupyter-widgets/controls",
            "_model_module_version": "1.5.0",
            "_model_name": "HTMLModel",
            "_view_count": null,
            "_view_module": "@jupyter-widgets/controls",
            "_view_module_version": "1.5.0",
            "_view_name": "HTMLView",
            "description": "",
            "description_tooltip": null,
            "layout": "IPY_MODEL_382a06307c1e425e8ccebb64fa6457b3",
            "placeholder": "​",
            "style": "IPY_MODEL_b47c50b5debe4e269091fff0700029de",
            "value": "Dl Size...: 100%"
          }
        },
        "23fc459c1c9f42c2a88f983809243f98": {
          "model_module": "@jupyter-widgets/controls",
          "model_name": "FloatProgressModel",
          "model_module_version": "1.5.0",
          "state": {
            "_dom_classes": [],
            "_model_module": "@jupyter-widgets/controls",
            "_model_module_version": "1.5.0",
            "_model_name": "FloatProgressModel",
            "_view_count": null,
            "_view_module": "@jupyter-widgets/controls",
            "_view_module_version": "1.5.0",
            "_view_name": "ProgressView",
            "bar_style": "success",
            "description": "",
            "description_tooltip": null,
            "layout": "IPY_MODEL_ff2e9f71a6574649926321e9afd41e47",
            "max": 1,
            "min": 0,
            "orientation": "horizontal",
            "style": "IPY_MODEL_e729f79eddb749e5877600137c8502d3",
            "value": 1
          }
        },
        "b0fb8e47232742b3a8fab61937840d28": {
          "model_module": "@jupyter-widgets/controls",
          "model_name": "HTMLModel",
          "model_module_version": "1.5.0",
          "state": {
            "_dom_classes": [],
            "_model_module": "@jupyter-widgets/controls",
            "_model_module_version": "1.5.0",
            "_model_name": "HTMLModel",
            "_view_count": null,
            "_view_module": "@jupyter-widgets/controls",
            "_view_module_version": "1.5.0",
            "_view_name": "HTMLView",
            "description": "",
            "description_tooltip": null,
            "layout": "IPY_MODEL_ba4ea2fde46f44f7a0f4335ee0b77ded",
            "placeholder": "​",
            "style": "IPY_MODEL_a18c16fe8b2f498fab282ad486ff227a",
            "value": " 80/80 [00:19&lt;00:00,  6.74 MiB/s]"
          }
        },
        "a4bee186b0674c3ba6fe86bad948e03c": {
          "model_module": "@jupyter-widgets/base",
          "model_name": "LayoutModel",
          "model_module_version": "1.2.0",
          "state": {
            "_model_module": "@jupyter-widgets/base",
            "_model_module_version": "1.2.0",
            "_model_name": "LayoutModel",
            "_view_count": null,
            "_view_module": "@jupyter-widgets/base",
            "_view_module_version": "1.2.0",
            "_view_name": "LayoutView",
            "align_content": null,
            "align_items": null,
            "align_self": null,
            "border": null,
            "bottom": null,
            "display": null,
            "flex": null,
            "flex_flow": null,
            "grid_area": null,
            "grid_auto_columns": null,
            "grid_auto_flow": null,
            "grid_auto_rows": null,
            "grid_column": null,
            "grid_gap": null,
            "grid_row": null,
            "grid_template_areas": null,
            "grid_template_columns": null,
            "grid_template_rows": null,
            "height": null,
            "justify_content": null,
            "justify_items": null,
            "left": null,
            "margin": null,
            "max_height": null,
            "max_width": null,
            "min_height": null,
            "min_width": null,
            "object_fit": null,
            "object_position": null,
            "order": null,
            "overflow": null,
            "overflow_x": null,
            "overflow_y": null,
            "padding": null,
            "right": null,
            "top": null,
            "visibility": null,
            "width": null
          }
        },
        "382a06307c1e425e8ccebb64fa6457b3": {
          "model_module": "@jupyter-widgets/base",
          "model_name": "LayoutModel",
          "model_module_version": "1.2.0",
          "state": {
            "_model_module": "@jupyter-widgets/base",
            "_model_module_version": "1.2.0",
            "_model_name": "LayoutModel",
            "_view_count": null,
            "_view_module": "@jupyter-widgets/base",
            "_view_module_version": "1.2.0",
            "_view_name": "LayoutView",
            "align_content": null,
            "align_items": null,
            "align_self": null,
            "border": null,
            "bottom": null,
            "display": null,
            "flex": null,
            "flex_flow": null,
            "grid_area": null,
            "grid_auto_columns": null,
            "grid_auto_flow": null,
            "grid_auto_rows": null,
            "grid_column": null,
            "grid_gap": null,
            "grid_row": null,
            "grid_template_areas": null,
            "grid_template_columns": null,
            "grid_template_rows": null,
            "height": null,
            "justify_content": null,
            "justify_items": null,
            "left": null,
            "margin": null,
            "max_height": null,
            "max_width": null,
            "min_height": null,
            "min_width": null,
            "object_fit": null,
            "object_position": null,
            "order": null,
            "overflow": null,
            "overflow_x": null,
            "overflow_y": null,
            "padding": null,
            "right": null,
            "top": null,
            "visibility": null,
            "width": null
          }
        },
        "b47c50b5debe4e269091fff0700029de": {
          "model_module": "@jupyter-widgets/controls",
          "model_name": "DescriptionStyleModel",
          "model_module_version": "1.5.0",
          "state": {
            "_model_module": "@jupyter-widgets/controls",
            "_model_module_version": "1.5.0",
            "_model_name": "DescriptionStyleModel",
            "_view_count": null,
            "_view_module": "@jupyter-widgets/base",
            "_view_module_version": "1.2.0",
            "_view_name": "StyleView",
            "description_width": ""
          }
        },
        "ff2e9f71a6574649926321e9afd41e47": {
          "model_module": "@jupyter-widgets/base",
          "model_name": "LayoutModel",
          "model_module_version": "1.2.0",
          "state": {
            "_model_module": "@jupyter-widgets/base",
            "_model_module_version": "1.2.0",
            "_model_name": "LayoutModel",
            "_view_count": null,
            "_view_module": "@jupyter-widgets/base",
            "_view_module_version": "1.2.0",
            "_view_name": "LayoutView",
            "align_content": null,
            "align_items": null,
            "align_self": null,
            "border": null,
            "bottom": null,
            "display": null,
            "flex": null,
            "flex_flow": null,
            "grid_area": null,
            "grid_auto_columns": null,
            "grid_auto_flow": null,
            "grid_auto_rows": null,
            "grid_column": null,
            "grid_gap": null,
            "grid_row": null,
            "grid_template_areas": null,
            "grid_template_columns": null,
            "grid_template_rows": null,
            "height": null,
            "justify_content": null,
            "justify_items": null,
            "left": null,
            "margin": null,
            "max_height": null,
            "max_width": null,
            "min_height": null,
            "min_width": null,
            "object_fit": null,
            "object_position": null,
            "order": null,
            "overflow": null,
            "overflow_x": null,
            "overflow_y": null,
            "padding": null,
            "right": null,
            "top": null,
            "visibility": null,
            "width": "20px"
          }
        },
        "e729f79eddb749e5877600137c8502d3": {
          "model_module": "@jupyter-widgets/controls",
          "model_name": "ProgressStyleModel",
          "model_module_version": "1.5.0",
          "state": {
            "_model_module": "@jupyter-widgets/controls",
            "_model_module_version": "1.5.0",
            "_model_name": "ProgressStyleModel",
            "_view_count": null,
            "_view_module": "@jupyter-widgets/base",
            "_view_module_version": "1.2.0",
            "_view_name": "StyleView",
            "bar_color": null,
            "description_width": ""
          }
        },
        "ba4ea2fde46f44f7a0f4335ee0b77ded": {
          "model_module": "@jupyter-widgets/base",
          "model_name": "LayoutModel",
          "model_module_version": "1.2.0",
          "state": {
            "_model_module": "@jupyter-widgets/base",
            "_model_module_version": "1.2.0",
            "_model_name": "LayoutModel",
            "_view_count": null,
            "_view_module": "@jupyter-widgets/base",
            "_view_module_version": "1.2.0",
            "_view_name": "LayoutView",
            "align_content": null,
            "align_items": null,
            "align_self": null,
            "border": null,
            "bottom": null,
            "display": null,
            "flex": null,
            "flex_flow": null,
            "grid_area": null,
            "grid_auto_columns": null,
            "grid_auto_flow": null,
            "grid_auto_rows": null,
            "grid_column": null,
            "grid_gap": null,
            "grid_row": null,
            "grid_template_areas": null,
            "grid_template_columns": null,
            "grid_template_rows": null,
            "height": null,
            "justify_content": null,
            "justify_items": null,
            "left": null,
            "margin": null,
            "max_height": null,
            "max_width": null,
            "min_height": null,
            "min_width": null,
            "object_fit": null,
            "object_position": null,
            "order": null,
            "overflow": null,
            "overflow_x": null,
            "overflow_y": null,
            "padding": null,
            "right": null,
            "top": null,
            "visibility": null,
            "width": null
          }
        },
        "a18c16fe8b2f498fab282ad486ff227a": {
          "model_module": "@jupyter-widgets/controls",
          "model_name": "DescriptionStyleModel",
          "model_module_version": "1.5.0",
          "state": {
            "_model_module": "@jupyter-widgets/controls",
            "_model_module_version": "1.5.0",
            "_model_name": "DescriptionStyleModel",
            "_view_count": null,
            "_view_module": "@jupyter-widgets/base",
            "_view_module_version": "1.2.0",
            "_view_name": "StyleView",
            "description_width": ""
          }
        },
        "92fc8e297fea40518d3d7aad2d635477": {
          "model_module": "@jupyter-widgets/controls",
          "model_name": "HBoxModel",
          "model_module_version": "1.5.0",
          "state": {
            "_dom_classes": [],
            "_model_module": "@jupyter-widgets/controls",
            "_model_module_version": "1.5.0",
            "_model_name": "HBoxModel",
            "_view_count": null,
            "_view_module": "@jupyter-widgets/controls",
            "_view_module_version": "1.5.0",
            "_view_name": "HBoxView",
            "box_style": "",
            "children": [
              "IPY_MODEL_bc6606ea45ac45aaa52180f6cde5bfb1",
              "IPY_MODEL_0d1cf19344814365ba64a5eef81da3b5",
              "IPY_MODEL_9eae1eea551446078f056620ec8b5b9d"
            ],
            "layout": "IPY_MODEL_1fe437c4b9334e8e89bcae11c138c014"
          }
        },
        "bc6606ea45ac45aaa52180f6cde5bfb1": {
          "model_module": "@jupyter-widgets/controls",
          "model_name": "HTMLModel",
          "model_module_version": "1.5.0",
          "state": {
            "_dom_classes": [],
            "_model_module": "@jupyter-widgets/controls",
            "_model_module_version": "1.5.0",
            "_model_name": "HTMLModel",
            "_view_count": null,
            "_view_module": "@jupyter-widgets/controls",
            "_view_module_version": "1.5.0",
            "_view_name": "HTMLView",
            "description": "",
            "description_tooltip": null,
            "layout": "IPY_MODEL_9c28535d73474cdfab82a733b0283044",
            "placeholder": "​",
            "style": "IPY_MODEL_1514d3a8af2f4d3fa40171b3555a2c4a",
            "value": "Generating splits...: 100%"
          }
        },
        "0d1cf19344814365ba64a5eef81da3b5": {
          "model_module": "@jupyter-widgets/controls",
          "model_name": "FloatProgressModel",
          "model_module_version": "1.5.0",
          "state": {
            "_dom_classes": [],
            "_model_module": "@jupyter-widgets/controls",
            "_model_module_version": "1.5.0",
            "_model_name": "FloatProgressModel",
            "_view_count": null,
            "_view_module": "@jupyter-widgets/controls",
            "_view_module_version": "1.5.0",
            "_view_name": "ProgressView",
            "bar_style": "",
            "description": "",
            "description_tooltip": null,
            "layout": "IPY_MODEL_8a4bfee96d104e2098c05845113ca4ba",
            "max": 3,
            "min": 0,
            "orientation": "horizontal",
            "style": "IPY_MODEL_7b55535374f34b668d77a113dd5a1ec6",
            "value": 3
          }
        },
        "9eae1eea551446078f056620ec8b5b9d": {
          "model_module": "@jupyter-widgets/controls",
          "model_name": "HTMLModel",
          "model_module_version": "1.5.0",
          "state": {
            "_dom_classes": [],
            "_model_module": "@jupyter-widgets/controls",
            "_model_module_version": "1.5.0",
            "_model_name": "HTMLModel",
            "_view_count": null,
            "_view_module": "@jupyter-widgets/controls",
            "_view_module_version": "1.5.0",
            "_view_name": "HTMLView",
            "description": "",
            "description_tooltip": null,
            "layout": "IPY_MODEL_3a6bf3cfdeca49268f5f3c0f16bddb13",
            "placeholder": "​",
            "style": "IPY_MODEL_43a83e3dcdb442b9ac3584bbb9211e16",
            "value": " 3/3 [00:29&lt;00:00,  9.90s/ splits]"
          }
        },
        "1fe437c4b9334e8e89bcae11c138c014": {
          "model_module": "@jupyter-widgets/base",
          "model_name": "LayoutModel",
          "model_module_version": "1.2.0",
          "state": {
            "_model_module": "@jupyter-widgets/base",
            "_model_module_version": "1.2.0",
            "_model_name": "LayoutModel",
            "_view_count": null,
            "_view_module": "@jupyter-widgets/base",
            "_view_module_version": "1.2.0",
            "_view_name": "LayoutView",
            "align_content": null,
            "align_items": null,
            "align_self": null,
            "border": null,
            "bottom": null,
            "display": null,
            "flex": null,
            "flex_flow": null,
            "grid_area": null,
            "grid_auto_columns": null,
            "grid_auto_flow": null,
            "grid_auto_rows": null,
            "grid_column": null,
            "grid_gap": null,
            "grid_row": null,
            "grid_template_areas": null,
            "grid_template_columns": null,
            "grid_template_rows": null,
            "height": null,
            "justify_content": null,
            "justify_items": null,
            "left": null,
            "margin": null,
            "max_height": null,
            "max_width": null,
            "min_height": null,
            "min_width": null,
            "object_fit": null,
            "object_position": null,
            "order": null,
            "overflow": null,
            "overflow_x": null,
            "overflow_y": null,
            "padding": null,
            "right": null,
            "top": null,
            "visibility": "hidden",
            "width": null
          }
        },
        "9c28535d73474cdfab82a733b0283044": {
          "model_module": "@jupyter-widgets/base",
          "model_name": "LayoutModel",
          "model_module_version": "1.2.0",
          "state": {
            "_model_module": "@jupyter-widgets/base",
            "_model_module_version": "1.2.0",
            "_model_name": "LayoutModel",
            "_view_count": null,
            "_view_module": "@jupyter-widgets/base",
            "_view_module_version": "1.2.0",
            "_view_name": "LayoutView",
            "align_content": null,
            "align_items": null,
            "align_self": null,
            "border": null,
            "bottom": null,
            "display": null,
            "flex": null,
            "flex_flow": null,
            "grid_area": null,
            "grid_auto_columns": null,
            "grid_auto_flow": null,
            "grid_auto_rows": null,
            "grid_column": null,
            "grid_gap": null,
            "grid_row": null,
            "grid_template_areas": null,
            "grid_template_columns": null,
            "grid_template_rows": null,
            "height": null,
            "justify_content": null,
            "justify_items": null,
            "left": null,
            "margin": null,
            "max_height": null,
            "max_width": null,
            "min_height": null,
            "min_width": null,
            "object_fit": null,
            "object_position": null,
            "order": null,
            "overflow": null,
            "overflow_x": null,
            "overflow_y": null,
            "padding": null,
            "right": null,
            "top": null,
            "visibility": null,
            "width": null
          }
        },
        "1514d3a8af2f4d3fa40171b3555a2c4a": {
          "model_module": "@jupyter-widgets/controls",
          "model_name": "DescriptionStyleModel",
          "model_module_version": "1.5.0",
          "state": {
            "_model_module": "@jupyter-widgets/controls",
            "_model_module_version": "1.5.0",
            "_model_name": "DescriptionStyleModel",
            "_view_count": null,
            "_view_module": "@jupyter-widgets/base",
            "_view_module_version": "1.2.0",
            "_view_name": "StyleView",
            "description_width": ""
          }
        },
        "8a4bfee96d104e2098c05845113ca4ba": {
          "model_module": "@jupyter-widgets/base",
          "model_name": "LayoutModel",
          "model_module_version": "1.2.0",
          "state": {
            "_model_module": "@jupyter-widgets/base",
            "_model_module_version": "1.2.0",
            "_model_name": "LayoutModel",
            "_view_count": null,
            "_view_module": "@jupyter-widgets/base",
            "_view_module_version": "1.2.0",
            "_view_name": "LayoutView",
            "align_content": null,
            "align_items": null,
            "align_self": null,
            "border": null,
            "bottom": null,
            "display": null,
            "flex": null,
            "flex_flow": null,
            "grid_area": null,
            "grid_auto_columns": null,
            "grid_auto_flow": null,
            "grid_auto_rows": null,
            "grid_column": null,
            "grid_gap": null,
            "grid_row": null,
            "grid_template_areas": null,
            "grid_template_columns": null,
            "grid_template_rows": null,
            "height": null,
            "justify_content": null,
            "justify_items": null,
            "left": null,
            "margin": null,
            "max_height": null,
            "max_width": null,
            "min_height": null,
            "min_width": null,
            "object_fit": null,
            "object_position": null,
            "order": null,
            "overflow": null,
            "overflow_x": null,
            "overflow_y": null,
            "padding": null,
            "right": null,
            "top": null,
            "visibility": null,
            "width": null
          }
        },
        "7b55535374f34b668d77a113dd5a1ec6": {
          "model_module": "@jupyter-widgets/controls",
          "model_name": "ProgressStyleModel",
          "model_module_version": "1.5.0",
          "state": {
            "_model_module": "@jupyter-widgets/controls",
            "_model_module_version": "1.5.0",
            "_model_name": "ProgressStyleModel",
            "_view_count": null,
            "_view_module": "@jupyter-widgets/base",
            "_view_module_version": "1.2.0",
            "_view_name": "StyleView",
            "bar_color": null,
            "description_width": ""
          }
        },
        "3a6bf3cfdeca49268f5f3c0f16bddb13": {
          "model_module": "@jupyter-widgets/base",
          "model_name": "LayoutModel",
          "model_module_version": "1.2.0",
          "state": {
            "_model_module": "@jupyter-widgets/base",
            "_model_module_version": "1.2.0",
            "_model_name": "LayoutModel",
            "_view_count": null,
            "_view_module": "@jupyter-widgets/base",
            "_view_module_version": "1.2.0",
            "_view_name": "LayoutView",
            "align_content": null,
            "align_items": null,
            "align_self": null,
            "border": null,
            "bottom": null,
            "display": null,
            "flex": null,
            "flex_flow": null,
            "grid_area": null,
            "grid_auto_columns": null,
            "grid_auto_flow": null,
            "grid_auto_rows": null,
            "grid_column": null,
            "grid_gap": null,
            "grid_row": null,
            "grid_template_areas": null,
            "grid_template_columns": null,
            "grid_template_rows": null,
            "height": null,
            "justify_content": null,
            "justify_items": null,
            "left": null,
            "margin": null,
            "max_height": null,
            "max_width": null,
            "min_height": null,
            "min_width": null,
            "object_fit": null,
            "object_position": null,
            "order": null,
            "overflow": null,
            "overflow_x": null,
            "overflow_y": null,
            "padding": null,
            "right": null,
            "top": null,
            "visibility": null,
            "width": null
          }
        },
        "43a83e3dcdb442b9ac3584bbb9211e16": {
          "model_module": "@jupyter-widgets/controls",
          "model_name": "DescriptionStyleModel",
          "model_module_version": "1.5.0",
          "state": {
            "_model_module": "@jupyter-widgets/controls",
            "_model_module_version": "1.5.0",
            "_model_name": "DescriptionStyleModel",
            "_view_count": null,
            "_view_module": "@jupyter-widgets/base",
            "_view_module_version": "1.2.0",
            "_view_name": "StyleView",
            "description_width": ""
          }
        },
        "95f2625821bb4de880aa4b2588c825e3": {
          "model_module": "@jupyter-widgets/controls",
          "model_name": "HBoxModel",
          "model_module_version": "1.5.0",
          "state": {
            "_dom_classes": [],
            "_model_module": "@jupyter-widgets/controls",
            "_model_module_version": "1.5.0",
            "_model_name": "HBoxModel",
            "_view_count": null,
            "_view_module": "@jupyter-widgets/controls",
            "_view_module_version": "1.5.0",
            "_view_name": "HBoxView",
            "box_style": "",
            "children": [
              "IPY_MODEL_86f2f1d3e5304bb0926b7be66ee03371",
              "IPY_MODEL_fb08dc36c9174b918781ced25c5d4338",
              "IPY_MODEL_032fb42a330a4d4e9ea5c656f676938c"
            ],
            "layout": "IPY_MODEL_296dfd2fbf0642c0800d9efa14a4b3c3"
          }
        },
        "86f2f1d3e5304bb0926b7be66ee03371": {
          "model_module": "@jupyter-widgets/controls",
          "model_name": "HTMLModel",
          "model_module_version": "1.5.0",
          "state": {
            "_dom_classes": [],
            "_model_module": "@jupyter-widgets/controls",
            "_model_module_version": "1.5.0",
            "_model_name": "HTMLModel",
            "_view_count": null,
            "_view_module": "@jupyter-widgets/controls",
            "_view_module_version": "1.5.0",
            "_view_name": "HTMLView",
            "description": "",
            "description_tooltip": null,
            "layout": "IPY_MODEL_23606368c7364e77805ccbd51d7a683c",
            "placeholder": "​",
            "style": "IPY_MODEL_68ab16f4a2294e07bea649ce05ff7c9c",
            "value": "Generating train examples...: "
          }
        },
        "fb08dc36c9174b918781ced25c5d4338": {
          "model_module": "@jupyter-widgets/controls",
          "model_name": "FloatProgressModel",
          "model_module_version": "1.5.0",
          "state": {
            "_dom_classes": [],
            "_model_module": "@jupyter-widgets/controls",
            "_model_module_version": "1.5.0",
            "_model_name": "FloatProgressModel",
            "_view_count": null,
            "_view_module": "@jupyter-widgets/controls",
            "_view_module_version": "1.5.0",
            "_view_name": "ProgressView",
            "bar_style": "info",
            "description": "",
            "description_tooltip": null,
            "layout": "IPY_MODEL_6082c077f2b242b9be646d317a0a575a",
            "max": 1,
            "min": 0,
            "orientation": "horizontal",
            "style": "IPY_MODEL_302c62588ca2439799ae91423dba2f88",
            "value": 1
          }
        },
        "032fb42a330a4d4e9ea5c656f676938c": {
          "model_module": "@jupyter-widgets/controls",
          "model_name": "HTMLModel",
          "model_module_version": "1.5.0",
          "state": {
            "_dom_classes": [],
            "_model_module": "@jupyter-widgets/controls",
            "_model_module_version": "1.5.0",
            "_model_name": "HTMLModel",
            "_view_count": null,
            "_view_module": "@jupyter-widgets/controls",
            "_view_module_version": "1.5.0",
            "_view_name": "HTMLView",
            "description": "",
            "description_tooltip": null,
            "layout": "IPY_MODEL_b396cafc6ebf4e81955523fe842d0f02",
            "placeholder": "​",
            "style": "IPY_MODEL_d584039f70494df5ba4365680698bbb0",
            "value": " 24491/? [00:06&lt;00:00, 5093.38 examples/s]"
          }
        },
        "296dfd2fbf0642c0800d9efa14a4b3c3": {
          "model_module": "@jupyter-widgets/base",
          "model_name": "LayoutModel",
          "model_module_version": "1.2.0",
          "state": {
            "_model_module": "@jupyter-widgets/base",
            "_model_module_version": "1.2.0",
            "_model_name": "LayoutModel",
            "_view_count": null,
            "_view_module": "@jupyter-widgets/base",
            "_view_module_version": "1.2.0",
            "_view_name": "LayoutView",
            "align_content": null,
            "align_items": null,
            "align_self": null,
            "border": null,
            "bottom": null,
            "display": null,
            "flex": null,
            "flex_flow": null,
            "grid_area": null,
            "grid_auto_columns": null,
            "grid_auto_flow": null,
            "grid_auto_rows": null,
            "grid_column": null,
            "grid_gap": null,
            "grid_row": null,
            "grid_template_areas": null,
            "grid_template_columns": null,
            "grid_template_rows": null,
            "height": null,
            "justify_content": null,
            "justify_items": null,
            "left": null,
            "margin": null,
            "max_height": null,
            "max_width": null,
            "min_height": null,
            "min_width": null,
            "object_fit": null,
            "object_position": null,
            "order": null,
            "overflow": null,
            "overflow_x": null,
            "overflow_y": null,
            "padding": null,
            "right": null,
            "top": null,
            "visibility": "hidden",
            "width": null
          }
        },
        "23606368c7364e77805ccbd51d7a683c": {
          "model_module": "@jupyter-widgets/base",
          "model_name": "LayoutModel",
          "model_module_version": "1.2.0",
          "state": {
            "_model_module": "@jupyter-widgets/base",
            "_model_module_version": "1.2.0",
            "_model_name": "LayoutModel",
            "_view_count": null,
            "_view_module": "@jupyter-widgets/base",
            "_view_module_version": "1.2.0",
            "_view_name": "LayoutView",
            "align_content": null,
            "align_items": null,
            "align_self": null,
            "border": null,
            "bottom": null,
            "display": null,
            "flex": null,
            "flex_flow": null,
            "grid_area": null,
            "grid_auto_columns": null,
            "grid_auto_flow": null,
            "grid_auto_rows": null,
            "grid_column": null,
            "grid_gap": null,
            "grid_row": null,
            "grid_template_areas": null,
            "grid_template_columns": null,
            "grid_template_rows": null,
            "height": null,
            "justify_content": null,
            "justify_items": null,
            "left": null,
            "margin": null,
            "max_height": null,
            "max_width": null,
            "min_height": null,
            "min_width": null,
            "object_fit": null,
            "object_position": null,
            "order": null,
            "overflow": null,
            "overflow_x": null,
            "overflow_y": null,
            "padding": null,
            "right": null,
            "top": null,
            "visibility": null,
            "width": null
          }
        },
        "68ab16f4a2294e07bea649ce05ff7c9c": {
          "model_module": "@jupyter-widgets/controls",
          "model_name": "DescriptionStyleModel",
          "model_module_version": "1.5.0",
          "state": {
            "_model_module": "@jupyter-widgets/controls",
            "_model_module_version": "1.5.0",
            "_model_name": "DescriptionStyleModel",
            "_view_count": null,
            "_view_module": "@jupyter-widgets/base",
            "_view_module_version": "1.2.0",
            "_view_name": "StyleView",
            "description_width": ""
          }
        },
        "6082c077f2b242b9be646d317a0a575a": {
          "model_module": "@jupyter-widgets/base",
          "model_name": "LayoutModel",
          "model_module_version": "1.2.0",
          "state": {
            "_model_module": "@jupyter-widgets/base",
            "_model_module_version": "1.2.0",
            "_model_name": "LayoutModel",
            "_view_count": null,
            "_view_module": "@jupyter-widgets/base",
            "_view_module_version": "1.2.0",
            "_view_name": "LayoutView",
            "align_content": null,
            "align_items": null,
            "align_self": null,
            "border": null,
            "bottom": null,
            "display": null,
            "flex": null,
            "flex_flow": null,
            "grid_area": null,
            "grid_auto_columns": null,
            "grid_auto_flow": null,
            "grid_auto_rows": null,
            "grid_column": null,
            "grid_gap": null,
            "grid_row": null,
            "grid_template_areas": null,
            "grid_template_columns": null,
            "grid_template_rows": null,
            "height": null,
            "justify_content": null,
            "justify_items": null,
            "left": null,
            "margin": null,
            "max_height": null,
            "max_width": null,
            "min_height": null,
            "min_width": null,
            "object_fit": null,
            "object_position": null,
            "order": null,
            "overflow": null,
            "overflow_x": null,
            "overflow_y": null,
            "padding": null,
            "right": null,
            "top": null,
            "visibility": null,
            "width": "20px"
          }
        },
        "302c62588ca2439799ae91423dba2f88": {
          "model_module": "@jupyter-widgets/controls",
          "model_name": "ProgressStyleModel",
          "model_module_version": "1.5.0",
          "state": {
            "_model_module": "@jupyter-widgets/controls",
            "_model_module_version": "1.5.0",
            "_model_name": "ProgressStyleModel",
            "_view_count": null,
            "_view_module": "@jupyter-widgets/base",
            "_view_module_version": "1.2.0",
            "_view_name": "StyleView",
            "bar_color": null,
            "description_width": ""
          }
        },
        "b396cafc6ebf4e81955523fe842d0f02": {
          "model_module": "@jupyter-widgets/base",
          "model_name": "LayoutModel",
          "model_module_version": "1.2.0",
          "state": {
            "_model_module": "@jupyter-widgets/base",
            "_model_module_version": "1.2.0",
            "_model_name": "LayoutModel",
            "_view_count": null,
            "_view_module": "@jupyter-widgets/base",
            "_view_module_version": "1.2.0",
            "_view_name": "LayoutView",
            "align_content": null,
            "align_items": null,
            "align_self": null,
            "border": null,
            "bottom": null,
            "display": null,
            "flex": null,
            "flex_flow": null,
            "grid_area": null,
            "grid_auto_columns": null,
            "grid_auto_flow": null,
            "grid_auto_rows": null,
            "grid_column": null,
            "grid_gap": null,
            "grid_row": null,
            "grid_template_areas": null,
            "grid_template_columns": null,
            "grid_template_rows": null,
            "height": null,
            "justify_content": null,
            "justify_items": null,
            "left": null,
            "margin": null,
            "max_height": null,
            "max_width": null,
            "min_height": null,
            "min_width": null,
            "object_fit": null,
            "object_position": null,
            "order": null,
            "overflow": null,
            "overflow_x": null,
            "overflow_y": null,
            "padding": null,
            "right": null,
            "top": null,
            "visibility": null,
            "width": null
          }
        },
        "d584039f70494df5ba4365680698bbb0": {
          "model_module": "@jupyter-widgets/controls",
          "model_name": "DescriptionStyleModel",
          "model_module_version": "1.5.0",
          "state": {
            "_model_module": "@jupyter-widgets/controls",
            "_model_module_version": "1.5.0",
            "_model_name": "DescriptionStyleModel",
            "_view_count": null,
            "_view_module": "@jupyter-widgets/base",
            "_view_module_version": "1.2.0",
            "_view_name": "StyleView",
            "description_width": ""
          }
        },
        "5e6bcb93a75441d7a955c7c8b44e3ce7": {
          "model_module": "@jupyter-widgets/controls",
          "model_name": "HBoxModel",
          "model_module_version": "1.5.0",
          "state": {
            "_dom_classes": [],
            "_model_module": "@jupyter-widgets/controls",
            "_model_module_version": "1.5.0",
            "_model_name": "HBoxModel",
            "_view_count": null,
            "_view_module": "@jupyter-widgets/controls",
            "_view_module_version": "1.5.0",
            "_view_name": "HBoxView",
            "box_style": "",
            "children": [
              "IPY_MODEL_7ed9610fd2f74f5c84bf718d3ee565f6",
              "IPY_MODEL_9e8c17a85c644e1492dd36d1bab7ea9c",
              "IPY_MODEL_f1a770a4557c402aaa1eaf2796bc1f23"
            ],
            "layout": "IPY_MODEL_ec85df9597684fd1b3ccac062abc86cf"
          }
        },
        "7ed9610fd2f74f5c84bf718d3ee565f6": {
          "model_module": "@jupyter-widgets/controls",
          "model_name": "HTMLModel",
          "model_module_version": "1.5.0",
          "state": {
            "_dom_classes": [],
            "_model_module": "@jupyter-widgets/controls",
            "_model_module_version": "1.5.0",
            "_model_name": "HTMLModel",
            "_view_count": null,
            "_view_module": "@jupyter-widgets/controls",
            "_view_module_version": "1.5.0",
            "_view_name": "HTMLView",
            "description": "",
            "description_tooltip": null,
            "layout": "IPY_MODEL_8982d612c7574cec8acf09e27b4f51d7",
            "placeholder": "​",
            "style": "IPY_MODEL_35667a1afd5f4855bef29366c58a049d",
            "value": "Shuffling /root/tensorflow_datasets/imdb_reviews/plain_text/incomplete.TCGJMM_1.0.0/imdb_reviews-train.tfrecord*...:   0%"
          }
        },
        "9e8c17a85c644e1492dd36d1bab7ea9c": {
          "model_module": "@jupyter-widgets/controls",
          "model_name": "FloatProgressModel",
          "model_module_version": "1.5.0",
          "state": {
            "_dom_classes": [],
            "_model_module": "@jupyter-widgets/controls",
            "_model_module_version": "1.5.0",
            "_model_name": "FloatProgressModel",
            "_view_count": null,
            "_view_module": "@jupyter-widgets/controls",
            "_view_module_version": "1.5.0",
            "_view_name": "ProgressView",
            "bar_style": "",
            "description": "",
            "description_tooltip": null,
            "layout": "IPY_MODEL_17ec1b8c6d644b15ba1c6805cce65ab7",
            "max": 25000,
            "min": 0,
            "orientation": "horizontal",
            "style": "IPY_MODEL_0ff770e590ad41708e4e4a059a90aadf",
            "value": 25000
          }
        },
        "f1a770a4557c402aaa1eaf2796bc1f23": {
          "model_module": "@jupyter-widgets/controls",
          "model_name": "HTMLModel",
          "model_module_version": "1.5.0",
          "state": {
            "_dom_classes": [],
            "_model_module": "@jupyter-widgets/controls",
            "_model_module_version": "1.5.0",
            "_model_name": "HTMLModel",
            "_view_count": null,
            "_view_module": "@jupyter-widgets/controls",
            "_view_module_version": "1.5.0",
            "_view_name": "HTMLView",
            "description": "",
            "description_tooltip": null,
            "layout": "IPY_MODEL_c40b2d34ba3e4c38bbb0270fc78c39f7",
            "placeholder": "​",
            "style": "IPY_MODEL_4663db11581e429c81a8d82c13989009",
            "value": " 0/25000 [00:00&lt;?, ? examples/s]"
          }
        },
        "ec85df9597684fd1b3ccac062abc86cf": {
          "model_module": "@jupyter-widgets/base",
          "model_name": "LayoutModel",
          "model_module_version": "1.2.0",
          "state": {
            "_model_module": "@jupyter-widgets/base",
            "_model_module_version": "1.2.0",
            "_model_name": "LayoutModel",
            "_view_count": null,
            "_view_module": "@jupyter-widgets/base",
            "_view_module_version": "1.2.0",
            "_view_name": "LayoutView",
            "align_content": null,
            "align_items": null,
            "align_self": null,
            "border": null,
            "bottom": null,
            "display": null,
            "flex": null,
            "flex_flow": null,
            "grid_area": null,
            "grid_auto_columns": null,
            "grid_auto_flow": null,
            "grid_auto_rows": null,
            "grid_column": null,
            "grid_gap": null,
            "grid_row": null,
            "grid_template_areas": null,
            "grid_template_columns": null,
            "grid_template_rows": null,
            "height": null,
            "justify_content": null,
            "justify_items": null,
            "left": null,
            "margin": null,
            "max_height": null,
            "max_width": null,
            "min_height": null,
            "min_width": null,
            "object_fit": null,
            "object_position": null,
            "order": null,
            "overflow": null,
            "overflow_x": null,
            "overflow_y": null,
            "padding": null,
            "right": null,
            "top": null,
            "visibility": "hidden",
            "width": null
          }
        },
        "8982d612c7574cec8acf09e27b4f51d7": {
          "model_module": "@jupyter-widgets/base",
          "model_name": "LayoutModel",
          "model_module_version": "1.2.0",
          "state": {
            "_model_module": "@jupyter-widgets/base",
            "_model_module_version": "1.2.0",
            "_model_name": "LayoutModel",
            "_view_count": null,
            "_view_module": "@jupyter-widgets/base",
            "_view_module_version": "1.2.0",
            "_view_name": "LayoutView",
            "align_content": null,
            "align_items": null,
            "align_self": null,
            "border": null,
            "bottom": null,
            "display": null,
            "flex": null,
            "flex_flow": null,
            "grid_area": null,
            "grid_auto_columns": null,
            "grid_auto_flow": null,
            "grid_auto_rows": null,
            "grid_column": null,
            "grid_gap": null,
            "grid_row": null,
            "grid_template_areas": null,
            "grid_template_columns": null,
            "grid_template_rows": null,
            "height": null,
            "justify_content": null,
            "justify_items": null,
            "left": null,
            "margin": null,
            "max_height": null,
            "max_width": null,
            "min_height": null,
            "min_width": null,
            "object_fit": null,
            "object_position": null,
            "order": null,
            "overflow": null,
            "overflow_x": null,
            "overflow_y": null,
            "padding": null,
            "right": null,
            "top": null,
            "visibility": null,
            "width": null
          }
        },
        "35667a1afd5f4855bef29366c58a049d": {
          "model_module": "@jupyter-widgets/controls",
          "model_name": "DescriptionStyleModel",
          "model_module_version": "1.5.0",
          "state": {
            "_model_module": "@jupyter-widgets/controls",
            "_model_module_version": "1.5.0",
            "_model_name": "DescriptionStyleModel",
            "_view_count": null,
            "_view_module": "@jupyter-widgets/base",
            "_view_module_version": "1.2.0",
            "_view_name": "StyleView",
            "description_width": ""
          }
        },
        "17ec1b8c6d644b15ba1c6805cce65ab7": {
          "model_module": "@jupyter-widgets/base",
          "model_name": "LayoutModel",
          "model_module_version": "1.2.0",
          "state": {
            "_model_module": "@jupyter-widgets/base",
            "_model_module_version": "1.2.0",
            "_model_name": "LayoutModel",
            "_view_count": null,
            "_view_module": "@jupyter-widgets/base",
            "_view_module_version": "1.2.0",
            "_view_name": "LayoutView",
            "align_content": null,
            "align_items": null,
            "align_self": null,
            "border": null,
            "bottom": null,
            "display": null,
            "flex": null,
            "flex_flow": null,
            "grid_area": null,
            "grid_auto_columns": null,
            "grid_auto_flow": null,
            "grid_auto_rows": null,
            "grid_column": null,
            "grid_gap": null,
            "grid_row": null,
            "grid_template_areas": null,
            "grid_template_columns": null,
            "grid_template_rows": null,
            "height": null,
            "justify_content": null,
            "justify_items": null,
            "left": null,
            "margin": null,
            "max_height": null,
            "max_width": null,
            "min_height": null,
            "min_width": null,
            "object_fit": null,
            "object_position": null,
            "order": null,
            "overflow": null,
            "overflow_x": null,
            "overflow_y": null,
            "padding": null,
            "right": null,
            "top": null,
            "visibility": null,
            "width": null
          }
        },
        "0ff770e590ad41708e4e4a059a90aadf": {
          "model_module": "@jupyter-widgets/controls",
          "model_name": "ProgressStyleModel",
          "model_module_version": "1.5.0",
          "state": {
            "_model_module": "@jupyter-widgets/controls",
            "_model_module_version": "1.5.0",
            "_model_name": "ProgressStyleModel",
            "_view_count": null,
            "_view_module": "@jupyter-widgets/base",
            "_view_module_version": "1.2.0",
            "_view_name": "StyleView",
            "bar_color": null,
            "description_width": ""
          }
        },
        "c40b2d34ba3e4c38bbb0270fc78c39f7": {
          "model_module": "@jupyter-widgets/base",
          "model_name": "LayoutModel",
          "model_module_version": "1.2.0",
          "state": {
            "_model_module": "@jupyter-widgets/base",
            "_model_module_version": "1.2.0",
            "_model_name": "LayoutModel",
            "_view_count": null,
            "_view_module": "@jupyter-widgets/base",
            "_view_module_version": "1.2.0",
            "_view_name": "LayoutView",
            "align_content": null,
            "align_items": null,
            "align_self": null,
            "border": null,
            "bottom": null,
            "display": null,
            "flex": null,
            "flex_flow": null,
            "grid_area": null,
            "grid_auto_columns": null,
            "grid_auto_flow": null,
            "grid_auto_rows": null,
            "grid_column": null,
            "grid_gap": null,
            "grid_row": null,
            "grid_template_areas": null,
            "grid_template_columns": null,
            "grid_template_rows": null,
            "height": null,
            "justify_content": null,
            "justify_items": null,
            "left": null,
            "margin": null,
            "max_height": null,
            "max_width": null,
            "min_height": null,
            "min_width": null,
            "object_fit": null,
            "object_position": null,
            "order": null,
            "overflow": null,
            "overflow_x": null,
            "overflow_y": null,
            "padding": null,
            "right": null,
            "top": null,
            "visibility": null,
            "width": null
          }
        },
        "4663db11581e429c81a8d82c13989009": {
          "model_module": "@jupyter-widgets/controls",
          "model_name": "DescriptionStyleModel",
          "model_module_version": "1.5.0",
          "state": {
            "_model_module": "@jupyter-widgets/controls",
            "_model_module_version": "1.5.0",
            "_model_name": "DescriptionStyleModel",
            "_view_count": null,
            "_view_module": "@jupyter-widgets/base",
            "_view_module_version": "1.2.0",
            "_view_name": "StyleView",
            "description_width": ""
          }
        },
        "8f0d61224a064c75ae6ddbd8f48c9bec": {
          "model_module": "@jupyter-widgets/controls",
          "model_name": "HBoxModel",
          "model_module_version": "1.5.0",
          "state": {
            "_dom_classes": [],
            "_model_module": "@jupyter-widgets/controls",
            "_model_module_version": "1.5.0",
            "_model_name": "HBoxModel",
            "_view_count": null,
            "_view_module": "@jupyter-widgets/controls",
            "_view_module_version": "1.5.0",
            "_view_name": "HBoxView",
            "box_style": "",
            "children": [
              "IPY_MODEL_92fc9df6a23a4991b3efd19eb413808f",
              "IPY_MODEL_6d63509ad8074ab58e392ad91143dc4e",
              "IPY_MODEL_4a8d921f4f53430f8a208a3f4e6943d7"
            ],
            "layout": "IPY_MODEL_ab2a509119ec4eb589d0ebdde449d7c7"
          }
        },
        "92fc9df6a23a4991b3efd19eb413808f": {
          "model_module": "@jupyter-widgets/controls",
          "model_name": "HTMLModel",
          "model_module_version": "1.5.0",
          "state": {
            "_dom_classes": [],
            "_model_module": "@jupyter-widgets/controls",
            "_model_module_version": "1.5.0",
            "_model_name": "HTMLModel",
            "_view_count": null,
            "_view_module": "@jupyter-widgets/controls",
            "_view_module_version": "1.5.0",
            "_view_name": "HTMLView",
            "description": "",
            "description_tooltip": null,
            "layout": "IPY_MODEL_4b4ab5864b864124863378b4ae072d07",
            "placeholder": "​",
            "style": "IPY_MODEL_e1c7659aa5734fd689603b8de233aab3",
            "value": "Generating test examples...: "
          }
        },
        "6d63509ad8074ab58e392ad91143dc4e": {
          "model_module": "@jupyter-widgets/controls",
          "model_name": "FloatProgressModel",
          "model_module_version": "1.5.0",
          "state": {
            "_dom_classes": [],
            "_model_module": "@jupyter-widgets/controls",
            "_model_module_version": "1.5.0",
            "_model_name": "FloatProgressModel",
            "_view_count": null,
            "_view_module": "@jupyter-widgets/controls",
            "_view_module_version": "1.5.0",
            "_view_name": "ProgressView",
            "bar_style": "info",
            "description": "",
            "description_tooltip": null,
            "layout": "IPY_MODEL_95cc2e2352924f95b0272401211551db",
            "max": 1,
            "min": 0,
            "orientation": "horizontal",
            "style": "IPY_MODEL_6d635f6d296c48129db8e7ef8aca9a9f",
            "value": 1
          }
        },
        "4a8d921f4f53430f8a208a3f4e6943d7": {
          "model_module": "@jupyter-widgets/controls",
          "model_name": "HTMLModel",
          "model_module_version": "1.5.0",
          "state": {
            "_dom_classes": [],
            "_model_module": "@jupyter-widgets/controls",
            "_model_module_version": "1.5.0",
            "_model_name": "HTMLModel",
            "_view_count": null,
            "_view_module": "@jupyter-widgets/controls",
            "_view_module_version": "1.5.0",
            "_view_name": "HTMLView",
            "description": "",
            "description_tooltip": null,
            "layout": "IPY_MODEL_563c4955a46f4411b0b1a4e2c80371fd",
            "placeholder": "​",
            "style": "IPY_MODEL_20aeb638ed1c4cada2d84729586fcac2",
            "value": " 18123/? [00:04&lt;00:00, 4677.80 examples/s]"
          }
        },
        "ab2a509119ec4eb589d0ebdde449d7c7": {
          "model_module": "@jupyter-widgets/base",
          "model_name": "LayoutModel",
          "model_module_version": "1.2.0",
          "state": {
            "_model_module": "@jupyter-widgets/base",
            "_model_module_version": "1.2.0",
            "_model_name": "LayoutModel",
            "_view_count": null,
            "_view_module": "@jupyter-widgets/base",
            "_view_module_version": "1.2.0",
            "_view_name": "LayoutView",
            "align_content": null,
            "align_items": null,
            "align_self": null,
            "border": null,
            "bottom": null,
            "display": null,
            "flex": null,
            "flex_flow": null,
            "grid_area": null,
            "grid_auto_columns": null,
            "grid_auto_flow": null,
            "grid_auto_rows": null,
            "grid_column": null,
            "grid_gap": null,
            "grid_row": null,
            "grid_template_areas": null,
            "grid_template_columns": null,
            "grid_template_rows": null,
            "height": null,
            "justify_content": null,
            "justify_items": null,
            "left": null,
            "margin": null,
            "max_height": null,
            "max_width": null,
            "min_height": null,
            "min_width": null,
            "object_fit": null,
            "object_position": null,
            "order": null,
            "overflow": null,
            "overflow_x": null,
            "overflow_y": null,
            "padding": null,
            "right": null,
            "top": null,
            "visibility": "hidden",
            "width": null
          }
        },
        "4b4ab5864b864124863378b4ae072d07": {
          "model_module": "@jupyter-widgets/base",
          "model_name": "LayoutModel",
          "model_module_version": "1.2.0",
          "state": {
            "_model_module": "@jupyter-widgets/base",
            "_model_module_version": "1.2.0",
            "_model_name": "LayoutModel",
            "_view_count": null,
            "_view_module": "@jupyter-widgets/base",
            "_view_module_version": "1.2.0",
            "_view_name": "LayoutView",
            "align_content": null,
            "align_items": null,
            "align_self": null,
            "border": null,
            "bottom": null,
            "display": null,
            "flex": null,
            "flex_flow": null,
            "grid_area": null,
            "grid_auto_columns": null,
            "grid_auto_flow": null,
            "grid_auto_rows": null,
            "grid_column": null,
            "grid_gap": null,
            "grid_row": null,
            "grid_template_areas": null,
            "grid_template_columns": null,
            "grid_template_rows": null,
            "height": null,
            "justify_content": null,
            "justify_items": null,
            "left": null,
            "margin": null,
            "max_height": null,
            "max_width": null,
            "min_height": null,
            "min_width": null,
            "object_fit": null,
            "object_position": null,
            "order": null,
            "overflow": null,
            "overflow_x": null,
            "overflow_y": null,
            "padding": null,
            "right": null,
            "top": null,
            "visibility": null,
            "width": null
          }
        },
        "e1c7659aa5734fd689603b8de233aab3": {
          "model_module": "@jupyter-widgets/controls",
          "model_name": "DescriptionStyleModel",
          "model_module_version": "1.5.0",
          "state": {
            "_model_module": "@jupyter-widgets/controls",
            "_model_module_version": "1.5.0",
            "_model_name": "DescriptionStyleModel",
            "_view_count": null,
            "_view_module": "@jupyter-widgets/base",
            "_view_module_version": "1.2.0",
            "_view_name": "StyleView",
            "description_width": ""
          }
        },
        "95cc2e2352924f95b0272401211551db": {
          "model_module": "@jupyter-widgets/base",
          "model_name": "LayoutModel",
          "model_module_version": "1.2.0",
          "state": {
            "_model_module": "@jupyter-widgets/base",
            "_model_module_version": "1.2.0",
            "_model_name": "LayoutModel",
            "_view_count": null,
            "_view_module": "@jupyter-widgets/base",
            "_view_module_version": "1.2.0",
            "_view_name": "LayoutView",
            "align_content": null,
            "align_items": null,
            "align_self": null,
            "border": null,
            "bottom": null,
            "display": null,
            "flex": null,
            "flex_flow": null,
            "grid_area": null,
            "grid_auto_columns": null,
            "grid_auto_flow": null,
            "grid_auto_rows": null,
            "grid_column": null,
            "grid_gap": null,
            "grid_row": null,
            "grid_template_areas": null,
            "grid_template_columns": null,
            "grid_template_rows": null,
            "height": null,
            "justify_content": null,
            "justify_items": null,
            "left": null,
            "margin": null,
            "max_height": null,
            "max_width": null,
            "min_height": null,
            "min_width": null,
            "object_fit": null,
            "object_position": null,
            "order": null,
            "overflow": null,
            "overflow_x": null,
            "overflow_y": null,
            "padding": null,
            "right": null,
            "top": null,
            "visibility": null,
            "width": "20px"
          }
        },
        "6d635f6d296c48129db8e7ef8aca9a9f": {
          "model_module": "@jupyter-widgets/controls",
          "model_name": "ProgressStyleModel",
          "model_module_version": "1.5.0",
          "state": {
            "_model_module": "@jupyter-widgets/controls",
            "_model_module_version": "1.5.0",
            "_model_name": "ProgressStyleModel",
            "_view_count": null,
            "_view_module": "@jupyter-widgets/base",
            "_view_module_version": "1.2.0",
            "_view_name": "StyleView",
            "bar_color": null,
            "description_width": ""
          }
        },
        "563c4955a46f4411b0b1a4e2c80371fd": {
          "model_module": "@jupyter-widgets/base",
          "model_name": "LayoutModel",
          "model_module_version": "1.2.0",
          "state": {
            "_model_module": "@jupyter-widgets/base",
            "_model_module_version": "1.2.0",
            "_model_name": "LayoutModel",
            "_view_count": null,
            "_view_module": "@jupyter-widgets/base",
            "_view_module_version": "1.2.0",
            "_view_name": "LayoutView",
            "align_content": null,
            "align_items": null,
            "align_self": null,
            "border": null,
            "bottom": null,
            "display": null,
            "flex": null,
            "flex_flow": null,
            "grid_area": null,
            "grid_auto_columns": null,
            "grid_auto_flow": null,
            "grid_auto_rows": null,
            "grid_column": null,
            "grid_gap": null,
            "grid_row": null,
            "grid_template_areas": null,
            "grid_template_columns": null,
            "grid_template_rows": null,
            "height": null,
            "justify_content": null,
            "justify_items": null,
            "left": null,
            "margin": null,
            "max_height": null,
            "max_width": null,
            "min_height": null,
            "min_width": null,
            "object_fit": null,
            "object_position": null,
            "order": null,
            "overflow": null,
            "overflow_x": null,
            "overflow_y": null,
            "padding": null,
            "right": null,
            "top": null,
            "visibility": null,
            "width": null
          }
        },
        "20aeb638ed1c4cada2d84729586fcac2": {
          "model_module": "@jupyter-widgets/controls",
          "model_name": "DescriptionStyleModel",
          "model_module_version": "1.5.0",
          "state": {
            "_model_module": "@jupyter-widgets/controls",
            "_model_module_version": "1.5.0",
            "_model_name": "DescriptionStyleModel",
            "_view_count": null,
            "_view_module": "@jupyter-widgets/base",
            "_view_module_version": "1.2.0",
            "_view_name": "StyleView",
            "description_width": ""
          }
        },
        "2c4f629adc804c8d8901cb0f770353c9": {
          "model_module": "@jupyter-widgets/controls",
          "model_name": "HBoxModel",
          "model_module_version": "1.5.0",
          "state": {
            "_dom_classes": [],
            "_model_module": "@jupyter-widgets/controls",
            "_model_module_version": "1.5.0",
            "_model_name": "HBoxModel",
            "_view_count": null,
            "_view_module": "@jupyter-widgets/controls",
            "_view_module_version": "1.5.0",
            "_view_name": "HBoxView",
            "box_style": "",
            "children": [
              "IPY_MODEL_343706688a294a6289bb709c84aa4e5e",
              "IPY_MODEL_78509e6128014a19af0a4adc7b3c930c",
              "IPY_MODEL_f5c69de3fb38435997ef0595f6bfa912"
            ],
            "layout": "IPY_MODEL_a042f8ef6f7e44508738fb8b4b91d31d"
          }
        },
        "343706688a294a6289bb709c84aa4e5e": {
          "model_module": "@jupyter-widgets/controls",
          "model_name": "HTMLModel",
          "model_module_version": "1.5.0",
          "state": {
            "_dom_classes": [],
            "_model_module": "@jupyter-widgets/controls",
            "_model_module_version": "1.5.0",
            "_model_name": "HTMLModel",
            "_view_count": null,
            "_view_module": "@jupyter-widgets/controls",
            "_view_module_version": "1.5.0",
            "_view_name": "HTMLView",
            "description": "",
            "description_tooltip": null,
            "layout": "IPY_MODEL_a174c0d66a784708ae77922e0d367c83",
            "placeholder": "​",
            "style": "IPY_MODEL_2aabc7fa9b8841719aa4a49bc8faa4ce",
            "value": "Shuffling /root/tensorflow_datasets/imdb_reviews/plain_text/incomplete.TCGJMM_1.0.0/imdb_reviews-test.tfrecord*...:   0%"
          }
        },
        "78509e6128014a19af0a4adc7b3c930c": {
          "model_module": "@jupyter-widgets/controls",
          "model_name": "FloatProgressModel",
          "model_module_version": "1.5.0",
          "state": {
            "_dom_classes": [],
            "_model_module": "@jupyter-widgets/controls",
            "_model_module_version": "1.5.0",
            "_model_name": "FloatProgressModel",
            "_view_count": null,
            "_view_module": "@jupyter-widgets/controls",
            "_view_module_version": "1.5.0",
            "_view_name": "ProgressView",
            "bar_style": "",
            "description": "",
            "description_tooltip": null,
            "layout": "IPY_MODEL_45b1fd9f7b9b4838a29bcd4469a66435",
            "max": 25000,
            "min": 0,
            "orientation": "horizontal",
            "style": "IPY_MODEL_359cedb983644db88f5f30a8dee7da7c",
            "value": 25000
          }
        },
        "f5c69de3fb38435997ef0595f6bfa912": {
          "model_module": "@jupyter-widgets/controls",
          "model_name": "HTMLModel",
          "model_module_version": "1.5.0",
          "state": {
            "_dom_classes": [],
            "_model_module": "@jupyter-widgets/controls",
            "_model_module_version": "1.5.0",
            "_model_name": "HTMLModel",
            "_view_count": null,
            "_view_module": "@jupyter-widgets/controls",
            "_view_module_version": "1.5.0",
            "_view_name": "HTMLView",
            "description": "",
            "description_tooltip": null,
            "layout": "IPY_MODEL_39b4f6e6631f471590334f30cdb5a562",
            "placeholder": "​",
            "style": "IPY_MODEL_6023ab15559e4159b6e117b423af9f08",
            "value": " 0/25000 [00:00&lt;?, ? examples/s]"
          }
        },
        "a042f8ef6f7e44508738fb8b4b91d31d": {
          "model_module": "@jupyter-widgets/base",
          "model_name": "LayoutModel",
          "model_module_version": "1.2.0",
          "state": {
            "_model_module": "@jupyter-widgets/base",
            "_model_module_version": "1.2.0",
            "_model_name": "LayoutModel",
            "_view_count": null,
            "_view_module": "@jupyter-widgets/base",
            "_view_module_version": "1.2.0",
            "_view_name": "LayoutView",
            "align_content": null,
            "align_items": null,
            "align_self": null,
            "border": null,
            "bottom": null,
            "display": null,
            "flex": null,
            "flex_flow": null,
            "grid_area": null,
            "grid_auto_columns": null,
            "grid_auto_flow": null,
            "grid_auto_rows": null,
            "grid_column": null,
            "grid_gap": null,
            "grid_row": null,
            "grid_template_areas": null,
            "grid_template_columns": null,
            "grid_template_rows": null,
            "height": null,
            "justify_content": null,
            "justify_items": null,
            "left": null,
            "margin": null,
            "max_height": null,
            "max_width": null,
            "min_height": null,
            "min_width": null,
            "object_fit": null,
            "object_position": null,
            "order": null,
            "overflow": null,
            "overflow_x": null,
            "overflow_y": null,
            "padding": null,
            "right": null,
            "top": null,
            "visibility": "hidden",
            "width": null
          }
        },
        "a174c0d66a784708ae77922e0d367c83": {
          "model_module": "@jupyter-widgets/base",
          "model_name": "LayoutModel",
          "model_module_version": "1.2.0",
          "state": {
            "_model_module": "@jupyter-widgets/base",
            "_model_module_version": "1.2.0",
            "_model_name": "LayoutModel",
            "_view_count": null,
            "_view_module": "@jupyter-widgets/base",
            "_view_module_version": "1.2.0",
            "_view_name": "LayoutView",
            "align_content": null,
            "align_items": null,
            "align_self": null,
            "border": null,
            "bottom": null,
            "display": null,
            "flex": null,
            "flex_flow": null,
            "grid_area": null,
            "grid_auto_columns": null,
            "grid_auto_flow": null,
            "grid_auto_rows": null,
            "grid_column": null,
            "grid_gap": null,
            "grid_row": null,
            "grid_template_areas": null,
            "grid_template_columns": null,
            "grid_template_rows": null,
            "height": null,
            "justify_content": null,
            "justify_items": null,
            "left": null,
            "margin": null,
            "max_height": null,
            "max_width": null,
            "min_height": null,
            "min_width": null,
            "object_fit": null,
            "object_position": null,
            "order": null,
            "overflow": null,
            "overflow_x": null,
            "overflow_y": null,
            "padding": null,
            "right": null,
            "top": null,
            "visibility": null,
            "width": null
          }
        },
        "2aabc7fa9b8841719aa4a49bc8faa4ce": {
          "model_module": "@jupyter-widgets/controls",
          "model_name": "DescriptionStyleModel",
          "model_module_version": "1.5.0",
          "state": {
            "_model_module": "@jupyter-widgets/controls",
            "_model_module_version": "1.5.0",
            "_model_name": "DescriptionStyleModel",
            "_view_count": null,
            "_view_module": "@jupyter-widgets/base",
            "_view_module_version": "1.2.0",
            "_view_name": "StyleView",
            "description_width": ""
          }
        },
        "45b1fd9f7b9b4838a29bcd4469a66435": {
          "model_module": "@jupyter-widgets/base",
          "model_name": "LayoutModel",
          "model_module_version": "1.2.0",
          "state": {
            "_model_module": "@jupyter-widgets/base",
            "_model_module_version": "1.2.0",
            "_model_name": "LayoutModel",
            "_view_count": null,
            "_view_module": "@jupyter-widgets/base",
            "_view_module_version": "1.2.0",
            "_view_name": "LayoutView",
            "align_content": null,
            "align_items": null,
            "align_self": null,
            "border": null,
            "bottom": null,
            "display": null,
            "flex": null,
            "flex_flow": null,
            "grid_area": null,
            "grid_auto_columns": null,
            "grid_auto_flow": null,
            "grid_auto_rows": null,
            "grid_column": null,
            "grid_gap": null,
            "grid_row": null,
            "grid_template_areas": null,
            "grid_template_columns": null,
            "grid_template_rows": null,
            "height": null,
            "justify_content": null,
            "justify_items": null,
            "left": null,
            "margin": null,
            "max_height": null,
            "max_width": null,
            "min_height": null,
            "min_width": null,
            "object_fit": null,
            "object_position": null,
            "order": null,
            "overflow": null,
            "overflow_x": null,
            "overflow_y": null,
            "padding": null,
            "right": null,
            "top": null,
            "visibility": null,
            "width": null
          }
        },
        "359cedb983644db88f5f30a8dee7da7c": {
          "model_module": "@jupyter-widgets/controls",
          "model_name": "ProgressStyleModel",
          "model_module_version": "1.5.0",
          "state": {
            "_model_module": "@jupyter-widgets/controls",
            "_model_module_version": "1.5.0",
            "_model_name": "ProgressStyleModel",
            "_view_count": null,
            "_view_module": "@jupyter-widgets/base",
            "_view_module_version": "1.2.0",
            "_view_name": "StyleView",
            "bar_color": null,
            "description_width": ""
          }
        },
        "39b4f6e6631f471590334f30cdb5a562": {
          "model_module": "@jupyter-widgets/base",
          "model_name": "LayoutModel",
          "model_module_version": "1.2.0",
          "state": {
            "_model_module": "@jupyter-widgets/base",
            "_model_module_version": "1.2.0",
            "_model_name": "LayoutModel",
            "_view_count": null,
            "_view_module": "@jupyter-widgets/base",
            "_view_module_version": "1.2.0",
            "_view_name": "LayoutView",
            "align_content": null,
            "align_items": null,
            "align_self": null,
            "border": null,
            "bottom": null,
            "display": null,
            "flex": null,
            "flex_flow": null,
            "grid_area": null,
            "grid_auto_columns": null,
            "grid_auto_flow": null,
            "grid_auto_rows": null,
            "grid_column": null,
            "grid_gap": null,
            "grid_row": null,
            "grid_template_areas": null,
            "grid_template_columns": null,
            "grid_template_rows": null,
            "height": null,
            "justify_content": null,
            "justify_items": null,
            "left": null,
            "margin": null,
            "max_height": null,
            "max_width": null,
            "min_height": null,
            "min_width": null,
            "object_fit": null,
            "object_position": null,
            "order": null,
            "overflow": null,
            "overflow_x": null,
            "overflow_y": null,
            "padding": null,
            "right": null,
            "top": null,
            "visibility": null,
            "width": null
          }
        },
        "6023ab15559e4159b6e117b423af9f08": {
          "model_module": "@jupyter-widgets/controls",
          "model_name": "DescriptionStyleModel",
          "model_module_version": "1.5.0",
          "state": {
            "_model_module": "@jupyter-widgets/controls",
            "_model_module_version": "1.5.0",
            "_model_name": "DescriptionStyleModel",
            "_view_count": null,
            "_view_module": "@jupyter-widgets/base",
            "_view_module_version": "1.2.0",
            "_view_name": "StyleView",
            "description_width": ""
          }
        },
        "0547a74afcb144d88d45e006f76f7a23": {
          "model_module": "@jupyter-widgets/controls",
          "model_name": "HBoxModel",
          "model_module_version": "1.5.0",
          "state": {
            "_dom_classes": [],
            "_model_module": "@jupyter-widgets/controls",
            "_model_module_version": "1.5.0",
            "_model_name": "HBoxModel",
            "_view_count": null,
            "_view_module": "@jupyter-widgets/controls",
            "_view_module_version": "1.5.0",
            "_view_name": "HBoxView",
            "box_style": "",
            "children": [
              "IPY_MODEL_99dbeb5a2af149628eead409d0bd3146",
              "IPY_MODEL_f49f6e128c584c1c889147e75b2fbc95",
              "IPY_MODEL_dbe1de574ab24234b2e335af3e95082f"
            ],
            "layout": "IPY_MODEL_6cbd7f39760f4eb4958114b818aa82fa"
          }
        },
        "99dbeb5a2af149628eead409d0bd3146": {
          "model_module": "@jupyter-widgets/controls",
          "model_name": "HTMLModel",
          "model_module_version": "1.5.0",
          "state": {
            "_dom_classes": [],
            "_model_module": "@jupyter-widgets/controls",
            "_model_module_version": "1.5.0",
            "_model_name": "HTMLModel",
            "_view_count": null,
            "_view_module": "@jupyter-widgets/controls",
            "_view_module_version": "1.5.0",
            "_view_name": "HTMLView",
            "description": "",
            "description_tooltip": null,
            "layout": "IPY_MODEL_9182dac836d24c1396a91d3e3e5a8bd7",
            "placeholder": "​",
            "style": "IPY_MODEL_3abfe201289e4ed6b361be9ebb042156",
            "value": "Generating unsupervised examples...: "
          }
        },
        "f49f6e128c584c1c889147e75b2fbc95": {
          "model_module": "@jupyter-widgets/controls",
          "model_name": "FloatProgressModel",
          "model_module_version": "1.5.0",
          "state": {
            "_dom_classes": [],
            "_model_module": "@jupyter-widgets/controls",
            "_model_module_version": "1.5.0",
            "_model_name": "FloatProgressModel",
            "_view_count": null,
            "_view_module": "@jupyter-widgets/controls",
            "_view_module_version": "1.5.0",
            "_view_name": "ProgressView",
            "bar_style": "info",
            "description": "",
            "description_tooltip": null,
            "layout": "IPY_MODEL_821d5bd282ae4aff964bd255e00893c5",
            "max": 1,
            "min": 0,
            "orientation": "horizontal",
            "style": "IPY_MODEL_fb42cb24649f46f48dab1e33d8418d2c",
            "value": 1
          }
        },
        "dbe1de574ab24234b2e335af3e95082f": {
          "model_module": "@jupyter-widgets/controls",
          "model_name": "HTMLModel",
          "model_module_version": "1.5.0",
          "state": {
            "_dom_classes": [],
            "_model_module": "@jupyter-widgets/controls",
            "_model_module_version": "1.5.0",
            "_model_name": "HTMLModel",
            "_view_count": null,
            "_view_module": "@jupyter-widgets/controls",
            "_view_module_version": "1.5.0",
            "_view_name": "HTMLView",
            "description": "",
            "description_tooltip": null,
            "layout": "IPY_MODEL_079883735a724c9bba70249246d6d2f5",
            "placeholder": "​",
            "style": "IPY_MODEL_1c33f5f2d2f14986a8fdf4e543163084",
            "value": " 49479/? [00:10&lt;00:00, 6965.35 examples/s]"
          }
        },
        "6cbd7f39760f4eb4958114b818aa82fa": {
          "model_module": "@jupyter-widgets/base",
          "model_name": "LayoutModel",
          "model_module_version": "1.2.0",
          "state": {
            "_model_module": "@jupyter-widgets/base",
            "_model_module_version": "1.2.0",
            "_model_name": "LayoutModel",
            "_view_count": null,
            "_view_module": "@jupyter-widgets/base",
            "_view_module_version": "1.2.0",
            "_view_name": "LayoutView",
            "align_content": null,
            "align_items": null,
            "align_self": null,
            "border": null,
            "bottom": null,
            "display": null,
            "flex": null,
            "flex_flow": null,
            "grid_area": null,
            "grid_auto_columns": null,
            "grid_auto_flow": null,
            "grid_auto_rows": null,
            "grid_column": null,
            "grid_gap": null,
            "grid_row": null,
            "grid_template_areas": null,
            "grid_template_columns": null,
            "grid_template_rows": null,
            "height": null,
            "justify_content": null,
            "justify_items": null,
            "left": null,
            "margin": null,
            "max_height": null,
            "max_width": null,
            "min_height": null,
            "min_width": null,
            "object_fit": null,
            "object_position": null,
            "order": null,
            "overflow": null,
            "overflow_x": null,
            "overflow_y": null,
            "padding": null,
            "right": null,
            "top": null,
            "visibility": "hidden",
            "width": null
          }
        },
        "9182dac836d24c1396a91d3e3e5a8bd7": {
          "model_module": "@jupyter-widgets/base",
          "model_name": "LayoutModel",
          "model_module_version": "1.2.0",
          "state": {
            "_model_module": "@jupyter-widgets/base",
            "_model_module_version": "1.2.0",
            "_model_name": "LayoutModel",
            "_view_count": null,
            "_view_module": "@jupyter-widgets/base",
            "_view_module_version": "1.2.0",
            "_view_name": "LayoutView",
            "align_content": null,
            "align_items": null,
            "align_self": null,
            "border": null,
            "bottom": null,
            "display": null,
            "flex": null,
            "flex_flow": null,
            "grid_area": null,
            "grid_auto_columns": null,
            "grid_auto_flow": null,
            "grid_auto_rows": null,
            "grid_column": null,
            "grid_gap": null,
            "grid_row": null,
            "grid_template_areas": null,
            "grid_template_columns": null,
            "grid_template_rows": null,
            "height": null,
            "justify_content": null,
            "justify_items": null,
            "left": null,
            "margin": null,
            "max_height": null,
            "max_width": null,
            "min_height": null,
            "min_width": null,
            "object_fit": null,
            "object_position": null,
            "order": null,
            "overflow": null,
            "overflow_x": null,
            "overflow_y": null,
            "padding": null,
            "right": null,
            "top": null,
            "visibility": null,
            "width": null
          }
        },
        "3abfe201289e4ed6b361be9ebb042156": {
          "model_module": "@jupyter-widgets/controls",
          "model_name": "DescriptionStyleModel",
          "model_module_version": "1.5.0",
          "state": {
            "_model_module": "@jupyter-widgets/controls",
            "_model_module_version": "1.5.0",
            "_model_name": "DescriptionStyleModel",
            "_view_count": null,
            "_view_module": "@jupyter-widgets/base",
            "_view_module_version": "1.2.0",
            "_view_name": "StyleView",
            "description_width": ""
          }
        },
        "821d5bd282ae4aff964bd255e00893c5": {
          "model_module": "@jupyter-widgets/base",
          "model_name": "LayoutModel",
          "model_module_version": "1.2.0",
          "state": {
            "_model_module": "@jupyter-widgets/base",
            "_model_module_version": "1.2.0",
            "_model_name": "LayoutModel",
            "_view_count": null,
            "_view_module": "@jupyter-widgets/base",
            "_view_module_version": "1.2.0",
            "_view_name": "LayoutView",
            "align_content": null,
            "align_items": null,
            "align_self": null,
            "border": null,
            "bottom": null,
            "display": null,
            "flex": null,
            "flex_flow": null,
            "grid_area": null,
            "grid_auto_columns": null,
            "grid_auto_flow": null,
            "grid_auto_rows": null,
            "grid_column": null,
            "grid_gap": null,
            "grid_row": null,
            "grid_template_areas": null,
            "grid_template_columns": null,
            "grid_template_rows": null,
            "height": null,
            "justify_content": null,
            "justify_items": null,
            "left": null,
            "margin": null,
            "max_height": null,
            "max_width": null,
            "min_height": null,
            "min_width": null,
            "object_fit": null,
            "object_position": null,
            "order": null,
            "overflow": null,
            "overflow_x": null,
            "overflow_y": null,
            "padding": null,
            "right": null,
            "top": null,
            "visibility": null,
            "width": "20px"
          }
        },
        "fb42cb24649f46f48dab1e33d8418d2c": {
          "model_module": "@jupyter-widgets/controls",
          "model_name": "ProgressStyleModel",
          "model_module_version": "1.5.0",
          "state": {
            "_model_module": "@jupyter-widgets/controls",
            "_model_module_version": "1.5.0",
            "_model_name": "ProgressStyleModel",
            "_view_count": null,
            "_view_module": "@jupyter-widgets/base",
            "_view_module_version": "1.2.0",
            "_view_name": "StyleView",
            "bar_color": null,
            "description_width": ""
          }
        },
        "079883735a724c9bba70249246d6d2f5": {
          "model_module": "@jupyter-widgets/base",
          "model_name": "LayoutModel",
          "model_module_version": "1.2.0",
          "state": {
            "_model_module": "@jupyter-widgets/base",
            "_model_module_version": "1.2.0",
            "_model_name": "LayoutModel",
            "_view_count": null,
            "_view_module": "@jupyter-widgets/base",
            "_view_module_version": "1.2.0",
            "_view_name": "LayoutView",
            "align_content": null,
            "align_items": null,
            "align_self": null,
            "border": null,
            "bottom": null,
            "display": null,
            "flex": null,
            "flex_flow": null,
            "grid_area": null,
            "grid_auto_columns": null,
            "grid_auto_flow": null,
            "grid_auto_rows": null,
            "grid_column": null,
            "grid_gap": null,
            "grid_row": null,
            "grid_template_areas": null,
            "grid_template_columns": null,
            "grid_template_rows": null,
            "height": null,
            "justify_content": null,
            "justify_items": null,
            "left": null,
            "margin": null,
            "max_height": null,
            "max_width": null,
            "min_height": null,
            "min_width": null,
            "object_fit": null,
            "object_position": null,
            "order": null,
            "overflow": null,
            "overflow_x": null,
            "overflow_y": null,
            "padding": null,
            "right": null,
            "top": null,
            "visibility": null,
            "width": null
          }
        },
        "1c33f5f2d2f14986a8fdf4e543163084": {
          "model_module": "@jupyter-widgets/controls",
          "model_name": "DescriptionStyleModel",
          "model_module_version": "1.5.0",
          "state": {
            "_model_module": "@jupyter-widgets/controls",
            "_model_module_version": "1.5.0",
            "_model_name": "DescriptionStyleModel",
            "_view_count": null,
            "_view_module": "@jupyter-widgets/base",
            "_view_module_version": "1.2.0",
            "_view_name": "StyleView",
            "description_width": ""
          }
        },
        "ca99e053b9cb4ff8a8b3998b59a3d905": {
          "model_module": "@jupyter-widgets/controls",
          "model_name": "HBoxModel",
          "model_module_version": "1.5.0",
          "state": {
            "_dom_classes": [],
            "_model_module": "@jupyter-widgets/controls",
            "_model_module_version": "1.5.0",
            "_model_name": "HBoxModel",
            "_view_count": null,
            "_view_module": "@jupyter-widgets/controls",
            "_view_module_version": "1.5.0",
            "_view_name": "HBoxView",
            "box_style": "",
            "children": [
              "IPY_MODEL_78ed854fd27b4748a5370a60695049e5",
              "IPY_MODEL_90c540de3d0d481e851c289b75166e85",
              "IPY_MODEL_50e09020d5f5431baacd578dfe7608b8"
            ],
            "layout": "IPY_MODEL_829470ec09eb411686d389408a88a5f8"
          }
        },
        "78ed854fd27b4748a5370a60695049e5": {
          "model_module": "@jupyter-widgets/controls",
          "model_name": "HTMLModel",
          "model_module_version": "1.5.0",
          "state": {
            "_dom_classes": [],
            "_model_module": "@jupyter-widgets/controls",
            "_model_module_version": "1.5.0",
            "_model_name": "HTMLModel",
            "_view_count": null,
            "_view_module": "@jupyter-widgets/controls",
            "_view_module_version": "1.5.0",
            "_view_name": "HTMLView",
            "description": "",
            "description_tooltip": null,
            "layout": "IPY_MODEL_2f1eac43c7a846279a97167a75f3411b",
            "placeholder": "​",
            "style": "IPY_MODEL_24ebebcd932e4f8f9d09f94c9a97a8fb",
            "value": "Shuffling /root/tensorflow_datasets/imdb_reviews/plain_text/incomplete.TCGJMM_1.0.0/imdb_reviews-unsupervised.tfrecord*...:   0%"
          }
        },
        "90c540de3d0d481e851c289b75166e85": {
          "model_module": "@jupyter-widgets/controls",
          "model_name": "FloatProgressModel",
          "model_module_version": "1.5.0",
          "state": {
            "_dom_classes": [],
            "_model_module": "@jupyter-widgets/controls",
            "_model_module_version": "1.5.0",
            "_model_name": "FloatProgressModel",
            "_view_count": null,
            "_view_module": "@jupyter-widgets/controls",
            "_view_module_version": "1.5.0",
            "_view_name": "ProgressView",
            "bar_style": "",
            "description": "",
            "description_tooltip": null,
            "layout": "IPY_MODEL_de1e8449789b421dadbd7262f2b58665",
            "max": 50000,
            "min": 0,
            "orientation": "horizontal",
            "style": "IPY_MODEL_fc6e3432a8a24fe7bcc3fa74f59ca17e",
            "value": 50000
          }
        },
        "50e09020d5f5431baacd578dfe7608b8": {
          "model_module": "@jupyter-widgets/controls",
          "model_name": "HTMLModel",
          "model_module_version": "1.5.0",
          "state": {
            "_dom_classes": [],
            "_model_module": "@jupyter-widgets/controls",
            "_model_module_version": "1.5.0",
            "_model_name": "HTMLModel",
            "_view_count": null,
            "_view_module": "@jupyter-widgets/controls",
            "_view_module_version": "1.5.0",
            "_view_name": "HTMLView",
            "description": "",
            "description_tooltip": null,
            "layout": "IPY_MODEL_04abb20434be4b39b0c221d39533c8d3",
            "placeholder": "​",
            "style": "IPY_MODEL_1069a49944204b5bb2fd5bb1c546fa6a",
            "value": " 0/50000 [00:00&lt;?, ? examples/s]"
          }
        },
        "829470ec09eb411686d389408a88a5f8": {
          "model_module": "@jupyter-widgets/base",
          "model_name": "LayoutModel",
          "model_module_version": "1.2.0",
          "state": {
            "_model_module": "@jupyter-widgets/base",
            "_model_module_version": "1.2.0",
            "_model_name": "LayoutModel",
            "_view_count": null,
            "_view_module": "@jupyter-widgets/base",
            "_view_module_version": "1.2.0",
            "_view_name": "LayoutView",
            "align_content": null,
            "align_items": null,
            "align_self": null,
            "border": null,
            "bottom": null,
            "display": null,
            "flex": null,
            "flex_flow": null,
            "grid_area": null,
            "grid_auto_columns": null,
            "grid_auto_flow": null,
            "grid_auto_rows": null,
            "grid_column": null,
            "grid_gap": null,
            "grid_row": null,
            "grid_template_areas": null,
            "grid_template_columns": null,
            "grid_template_rows": null,
            "height": null,
            "justify_content": null,
            "justify_items": null,
            "left": null,
            "margin": null,
            "max_height": null,
            "max_width": null,
            "min_height": null,
            "min_width": null,
            "object_fit": null,
            "object_position": null,
            "order": null,
            "overflow": null,
            "overflow_x": null,
            "overflow_y": null,
            "padding": null,
            "right": null,
            "top": null,
            "visibility": "hidden",
            "width": null
          }
        },
        "2f1eac43c7a846279a97167a75f3411b": {
          "model_module": "@jupyter-widgets/base",
          "model_name": "LayoutModel",
          "model_module_version": "1.2.0",
          "state": {
            "_model_module": "@jupyter-widgets/base",
            "_model_module_version": "1.2.0",
            "_model_name": "LayoutModel",
            "_view_count": null,
            "_view_module": "@jupyter-widgets/base",
            "_view_module_version": "1.2.0",
            "_view_name": "LayoutView",
            "align_content": null,
            "align_items": null,
            "align_self": null,
            "border": null,
            "bottom": null,
            "display": null,
            "flex": null,
            "flex_flow": null,
            "grid_area": null,
            "grid_auto_columns": null,
            "grid_auto_flow": null,
            "grid_auto_rows": null,
            "grid_column": null,
            "grid_gap": null,
            "grid_row": null,
            "grid_template_areas": null,
            "grid_template_columns": null,
            "grid_template_rows": null,
            "height": null,
            "justify_content": null,
            "justify_items": null,
            "left": null,
            "margin": null,
            "max_height": null,
            "max_width": null,
            "min_height": null,
            "min_width": null,
            "object_fit": null,
            "object_position": null,
            "order": null,
            "overflow": null,
            "overflow_x": null,
            "overflow_y": null,
            "padding": null,
            "right": null,
            "top": null,
            "visibility": null,
            "width": null
          }
        },
        "24ebebcd932e4f8f9d09f94c9a97a8fb": {
          "model_module": "@jupyter-widgets/controls",
          "model_name": "DescriptionStyleModel",
          "model_module_version": "1.5.0",
          "state": {
            "_model_module": "@jupyter-widgets/controls",
            "_model_module_version": "1.5.0",
            "_model_name": "DescriptionStyleModel",
            "_view_count": null,
            "_view_module": "@jupyter-widgets/base",
            "_view_module_version": "1.2.0",
            "_view_name": "StyleView",
            "description_width": ""
          }
        },
        "de1e8449789b421dadbd7262f2b58665": {
          "model_module": "@jupyter-widgets/base",
          "model_name": "LayoutModel",
          "model_module_version": "1.2.0",
          "state": {
            "_model_module": "@jupyter-widgets/base",
            "_model_module_version": "1.2.0",
            "_model_name": "LayoutModel",
            "_view_count": null,
            "_view_module": "@jupyter-widgets/base",
            "_view_module_version": "1.2.0",
            "_view_name": "LayoutView",
            "align_content": null,
            "align_items": null,
            "align_self": null,
            "border": null,
            "bottom": null,
            "display": null,
            "flex": null,
            "flex_flow": null,
            "grid_area": null,
            "grid_auto_columns": null,
            "grid_auto_flow": null,
            "grid_auto_rows": null,
            "grid_column": null,
            "grid_gap": null,
            "grid_row": null,
            "grid_template_areas": null,
            "grid_template_columns": null,
            "grid_template_rows": null,
            "height": null,
            "justify_content": null,
            "justify_items": null,
            "left": null,
            "margin": null,
            "max_height": null,
            "max_width": null,
            "min_height": null,
            "min_width": null,
            "object_fit": null,
            "object_position": null,
            "order": null,
            "overflow": null,
            "overflow_x": null,
            "overflow_y": null,
            "padding": null,
            "right": null,
            "top": null,
            "visibility": null,
            "width": null
          }
        },
        "fc6e3432a8a24fe7bcc3fa74f59ca17e": {
          "model_module": "@jupyter-widgets/controls",
          "model_name": "ProgressStyleModel",
          "model_module_version": "1.5.0",
          "state": {
            "_model_module": "@jupyter-widgets/controls",
            "_model_module_version": "1.5.0",
            "_model_name": "ProgressStyleModel",
            "_view_count": null,
            "_view_module": "@jupyter-widgets/base",
            "_view_module_version": "1.2.0",
            "_view_name": "StyleView",
            "bar_color": null,
            "description_width": ""
          }
        },
        "04abb20434be4b39b0c221d39533c8d3": {
          "model_module": "@jupyter-widgets/base",
          "model_name": "LayoutModel",
          "model_module_version": "1.2.0",
          "state": {
            "_model_module": "@jupyter-widgets/base",
            "_model_module_version": "1.2.0",
            "_model_name": "LayoutModel",
            "_view_count": null,
            "_view_module": "@jupyter-widgets/base",
            "_view_module_version": "1.2.0",
            "_view_name": "LayoutView",
            "align_content": null,
            "align_items": null,
            "align_self": null,
            "border": null,
            "bottom": null,
            "display": null,
            "flex": null,
            "flex_flow": null,
            "grid_area": null,
            "grid_auto_columns": null,
            "grid_auto_flow": null,
            "grid_auto_rows": null,
            "grid_column": null,
            "grid_gap": null,
            "grid_row": null,
            "grid_template_areas": null,
            "grid_template_columns": null,
            "grid_template_rows": null,
            "height": null,
            "justify_content": null,
            "justify_items": null,
            "left": null,
            "margin": null,
            "max_height": null,
            "max_width": null,
            "min_height": null,
            "min_width": null,
            "object_fit": null,
            "object_position": null,
            "order": null,
            "overflow": null,
            "overflow_x": null,
            "overflow_y": null,
            "padding": null,
            "right": null,
            "top": null,
            "visibility": null,
            "width": null
          }
        },
        "1069a49944204b5bb2fd5bb1c546fa6a": {
          "model_module": "@jupyter-widgets/controls",
          "model_name": "DescriptionStyleModel",
          "model_module_version": "1.5.0",
          "state": {
            "_model_module": "@jupyter-widgets/controls",
            "_model_module_version": "1.5.0",
            "_model_name": "DescriptionStyleModel",
            "_view_count": null,
            "_view_module": "@jupyter-widgets/base",
            "_view_module_version": "1.2.0",
            "_view_name": "StyleView",
            "description_width": ""
          }
        }
      }
    },
    "accelerator": "GPU"
  },
  "cells": [
    {
      "cell_type": "markdown",
      "metadata": {
        "id": "view-in-github",
        "colab_type": "text"
      },
      "source": [
        "<a href=\"https://colab.research.google.com/github/Pseudophoenix/Sentiment-Analysis/blob/main/Sentiment_Analysis_using_RNN.ipynb\" target=\"_parent\"><img src=\"https://colab.research.google.com/assets/colab-badge.svg\" alt=\"Open In Colab\"/></a>"
      ]
    },
    {
      "cell_type": "code",
      "execution_count": 1,
      "metadata": {
        "id": "TK-OgieYw-OM"
      },
      "outputs": [],
      "source": [
        "import tensorflow_datasets as tfds, re, numpy as np\n",
        "import os, string, tensorflow as tf\n",
        "from tensorflow.keras.layers import TextVectorization, Input, Embedding, SimpleRNN, Dense"
      ]
    },
    {
      "cell_type": "markdown",
      "source": [
        "### Data Preparation"
      ],
      "metadata": {
        "id": "mdKfDm9cxKFv"
      }
    },
    {
      "cell_type": "code",
      "source": [
        "train_ds,val_ds,test_ds=tfds.load(\"imdb_reviews\",split=['train','test[:50%]','test[50%:]'],as_supervised=True)"
      ],
      "metadata": {
        "colab": {
          "base_uri": "https://localhost:8080/",
          "height": 155,
          "referenced_widgets": [
            "df21267b66144ea0920213c621d87231",
            "a8289f8547b64a3785012804618657aa",
            "377d011ed9624346befc9f8c3637e5b2",
            "dce673fb6eab42b49efa6ade9af30454",
            "2fa0f755c57941e0ad195fbc4d65e084",
            "ecfaf37da2524c428281c307ab4ac2a3",
            "065dd27971124e87934799397ef0cb30",
            "cc4deb3c70fe4a5eaa08990623b23442",
            "5ddfe6fca49a41168627390efb727d61",
            "649fa1a70ddb4722870cb893abe24bcf",
            "5fc2514f82bb495abfd6f88cd82a5820",
            "a07f3f70d3a240c99a566fb0c6de00cc",
            "363f13ea9e884dc6a014cc50d6cbb733",
            "23fc459c1c9f42c2a88f983809243f98",
            "b0fb8e47232742b3a8fab61937840d28",
            "a4bee186b0674c3ba6fe86bad948e03c",
            "382a06307c1e425e8ccebb64fa6457b3",
            "b47c50b5debe4e269091fff0700029de",
            "ff2e9f71a6574649926321e9afd41e47",
            "e729f79eddb749e5877600137c8502d3",
            "ba4ea2fde46f44f7a0f4335ee0b77ded",
            "a18c16fe8b2f498fab282ad486ff227a",
            "92fc8e297fea40518d3d7aad2d635477",
            "bc6606ea45ac45aaa52180f6cde5bfb1",
            "0d1cf19344814365ba64a5eef81da3b5",
            "9eae1eea551446078f056620ec8b5b9d",
            "1fe437c4b9334e8e89bcae11c138c014",
            "9c28535d73474cdfab82a733b0283044",
            "1514d3a8af2f4d3fa40171b3555a2c4a",
            "8a4bfee96d104e2098c05845113ca4ba",
            "7b55535374f34b668d77a113dd5a1ec6",
            "3a6bf3cfdeca49268f5f3c0f16bddb13",
            "43a83e3dcdb442b9ac3584bbb9211e16",
            "95f2625821bb4de880aa4b2588c825e3",
            "86f2f1d3e5304bb0926b7be66ee03371",
            "fb08dc36c9174b918781ced25c5d4338",
            "032fb42a330a4d4e9ea5c656f676938c",
            "296dfd2fbf0642c0800d9efa14a4b3c3",
            "23606368c7364e77805ccbd51d7a683c",
            "68ab16f4a2294e07bea649ce05ff7c9c",
            "6082c077f2b242b9be646d317a0a575a",
            "302c62588ca2439799ae91423dba2f88",
            "b396cafc6ebf4e81955523fe842d0f02",
            "d584039f70494df5ba4365680698bbb0",
            "5e6bcb93a75441d7a955c7c8b44e3ce7",
            "7ed9610fd2f74f5c84bf718d3ee565f6",
            "9e8c17a85c644e1492dd36d1bab7ea9c",
            "f1a770a4557c402aaa1eaf2796bc1f23",
            "ec85df9597684fd1b3ccac062abc86cf",
            "8982d612c7574cec8acf09e27b4f51d7",
            "35667a1afd5f4855bef29366c58a049d",
            "17ec1b8c6d644b15ba1c6805cce65ab7",
            "0ff770e590ad41708e4e4a059a90aadf",
            "c40b2d34ba3e4c38bbb0270fc78c39f7",
            "4663db11581e429c81a8d82c13989009",
            "8f0d61224a064c75ae6ddbd8f48c9bec",
            "92fc9df6a23a4991b3efd19eb413808f",
            "6d63509ad8074ab58e392ad91143dc4e",
            "4a8d921f4f53430f8a208a3f4e6943d7",
            "ab2a509119ec4eb589d0ebdde449d7c7",
            "4b4ab5864b864124863378b4ae072d07",
            "e1c7659aa5734fd689603b8de233aab3",
            "95cc2e2352924f95b0272401211551db",
            "6d635f6d296c48129db8e7ef8aca9a9f",
            "563c4955a46f4411b0b1a4e2c80371fd",
            "20aeb638ed1c4cada2d84729586fcac2",
            "2c4f629adc804c8d8901cb0f770353c9",
            "343706688a294a6289bb709c84aa4e5e",
            "78509e6128014a19af0a4adc7b3c930c",
            "f5c69de3fb38435997ef0595f6bfa912",
            "a042f8ef6f7e44508738fb8b4b91d31d",
            "a174c0d66a784708ae77922e0d367c83",
            "2aabc7fa9b8841719aa4a49bc8faa4ce",
            "45b1fd9f7b9b4838a29bcd4469a66435",
            "359cedb983644db88f5f30a8dee7da7c",
            "39b4f6e6631f471590334f30cdb5a562",
            "6023ab15559e4159b6e117b423af9f08",
            "0547a74afcb144d88d45e006f76f7a23",
            "99dbeb5a2af149628eead409d0bd3146",
            "f49f6e128c584c1c889147e75b2fbc95",
            "dbe1de574ab24234b2e335af3e95082f",
            "6cbd7f39760f4eb4958114b818aa82fa",
            "9182dac836d24c1396a91d3e3e5a8bd7",
            "3abfe201289e4ed6b361be9ebb042156",
            "821d5bd282ae4aff964bd255e00893c5",
            "fb42cb24649f46f48dab1e33d8418d2c",
            "079883735a724c9bba70249246d6d2f5",
            "1c33f5f2d2f14986a8fdf4e543163084",
            "ca99e053b9cb4ff8a8b3998b59a3d905",
            "78ed854fd27b4748a5370a60695049e5",
            "90c540de3d0d481e851c289b75166e85",
            "50e09020d5f5431baacd578dfe7608b8",
            "829470ec09eb411686d389408a88a5f8",
            "2f1eac43c7a846279a97167a75f3411b",
            "24ebebcd932e4f8f9d09f94c9a97a8fb",
            "de1e8449789b421dadbd7262f2b58665",
            "fc6e3432a8a24fe7bcc3fa74f59ca17e",
            "04abb20434be4b39b0c221d39533c8d3",
            "1069a49944204b5bb2fd5bb1c546fa6a"
          ]
        },
        "id": "1aipsbXVxNPj",
        "outputId": "e9462f51-f80c-4ffd-a28b-3cf06bd4e51e"
      },
      "execution_count": 2,
      "outputs": [
        {
          "output_type": "stream",
          "name": "stderr",
          "text": [
            "WARNING:absl:Variant folder /root/tensorflow_datasets/imdb_reviews/plain_text/1.0.0 has no dataset_info.json\n"
          ]
        },
        {
          "output_type": "stream",
          "name": "stdout",
          "text": [
            "Downloading and preparing dataset Unknown size (download: Unknown size, generated: Unknown size, total: Unknown size) to /root/tensorflow_datasets/imdb_reviews/plain_text/1.0.0...\n"
          ]
        },
        {
          "output_type": "display_data",
          "data": {
            "text/plain": [
              "Dl Completed...: 0 url [00:00, ? url/s]"
            ],
            "application/vnd.jupyter.widget-view+json": {
              "version_major": 2,
              "version_minor": 0,
              "model_id": "df21267b66144ea0920213c621d87231"
            }
          },
          "metadata": {}
        },
        {
          "output_type": "display_data",
          "data": {
            "text/plain": [
              "Dl Size...: 0 MiB [00:00, ? MiB/s]"
            ],
            "application/vnd.jupyter.widget-view+json": {
              "version_major": 2,
              "version_minor": 0,
              "model_id": "a07f3f70d3a240c99a566fb0c6de00cc"
            }
          },
          "metadata": {}
        },
        {
          "output_type": "display_data",
          "data": {
            "text/plain": [
              "Generating splits...:   0%|          | 0/3 [00:00<?, ? splits/s]"
            ],
            "application/vnd.jupyter.widget-view+json": {
              "version_major": 2,
              "version_minor": 0,
              "model_id": "92fc8e297fea40518d3d7aad2d635477"
            }
          },
          "metadata": {}
        },
        {
          "output_type": "display_data",
          "data": {
            "text/plain": [
              "Generating train examples...: 0 examples [00:00, ? examples/s]"
            ],
            "application/vnd.jupyter.widget-view+json": {
              "version_major": 2,
              "version_minor": 0,
              "model_id": "95f2625821bb4de880aa4b2588c825e3"
            }
          },
          "metadata": {}
        },
        {
          "output_type": "display_data",
          "data": {
            "text/plain": [
              "Shuffling /root/tensorflow_datasets/imdb_reviews/plain_text/incomplete.TCGJMM_1.0.0/imdb_reviews-train.tfrecor…"
            ],
            "application/vnd.jupyter.widget-view+json": {
              "version_major": 2,
              "version_minor": 0,
              "model_id": "5e6bcb93a75441d7a955c7c8b44e3ce7"
            }
          },
          "metadata": {}
        },
        {
          "output_type": "display_data",
          "data": {
            "text/plain": [
              "Generating test examples...: 0 examples [00:00, ? examples/s]"
            ],
            "application/vnd.jupyter.widget-view+json": {
              "version_major": 2,
              "version_minor": 0,
              "model_id": "8f0d61224a064c75ae6ddbd8f48c9bec"
            }
          },
          "metadata": {}
        },
        {
          "output_type": "display_data",
          "data": {
            "text/plain": [
              "Shuffling /root/tensorflow_datasets/imdb_reviews/plain_text/incomplete.TCGJMM_1.0.0/imdb_reviews-test.tfrecord…"
            ],
            "application/vnd.jupyter.widget-view+json": {
              "version_major": 2,
              "version_minor": 0,
              "model_id": "2c4f629adc804c8d8901cb0f770353c9"
            }
          },
          "metadata": {}
        },
        {
          "output_type": "display_data",
          "data": {
            "text/plain": [
              "Generating unsupervised examples...: 0 examples [00:00, ? examples/s]"
            ],
            "application/vnd.jupyter.widget-view+json": {
              "version_major": 2,
              "version_minor": 0,
              "model_id": "0547a74afcb144d88d45e006f76f7a23"
            }
          },
          "metadata": {}
        },
        {
          "output_type": "display_data",
          "data": {
            "text/plain": [
              "Shuffling /root/tensorflow_datasets/imdb_reviews/plain_text/incomplete.TCGJMM_1.0.0/imdb_reviews-unsupervised.…"
            ],
            "application/vnd.jupyter.widget-view+json": {
              "version_major": 2,
              "version_minor": 0,
              "model_id": "ca99e053b9cb4ff8a8b3998b59a3d905"
            }
          },
          "metadata": {}
        },
        {
          "output_type": "stream",
          "name": "stdout",
          "text": [
            "Dataset imdb_reviews downloaded and prepared to /root/tensorflow_datasets/imdb_reviews/plain_text/1.0.0. Subsequent calls will reuse this data.\n"
          ]
        }
      ]
    },
    {
      "cell_type": "markdown",
      "source": [
        "The `take(n)` method efficiently retrieves a small subset (n elements) from a dataset without loading the entire dataset, making it useful for quick debugging or sampling.\n",
        "\n",
        "`take(5):` Streams only 5 batches/samples, avoiding full dataset iteration."
      ],
      "metadata": {
        "id": "eL7hwj5rFnlJ"
      }
    },
    {
      "cell_type": "code",
      "source": [
        "for review,label in train_ds.take(5):\n",
        "  print(len(tf.strings.split(review,sep=\" \")))\n",
        "  print(review)\n",
        "  print(label)"
      ],
      "metadata": {
        "id": "F5nz9VvGxjPC",
        "colab": {
          "base_uri": "https://localhost:8080/"
        },
        "collapsed": true,
        "outputId": "9ee86ca5-6129-43d8-ba53-0c6f5f720630"
      },
      "execution_count": 3,
      "outputs": [
        {
          "output_type": "stream",
          "name": "stdout",
          "text": [
            "116\n",
            "tf.Tensor(b\"This was an absolutely terrible movie. Don't be lured in by Christopher Walken or Michael Ironside. Both are great actors, but this must simply be their worst role in history. Even their great acting could not redeem this movie's ridiculous storyline. This movie is an early nineties US propaganda piece. The most pathetic scenes were those when the Columbian rebels were making their cases for revolutions. Maria Conchita Alonso appeared phony, and her pseudo-love affair with Walken was nothing but a pathetic emotional plug in a movie that was devoid of any real meaning. I am disappointed that there are movies like this, ruining actor's like Christopher Walken's good name. I could barely sit through it.\", shape=(), dtype=string)\n",
            "tf.Tensor(0, shape=(), dtype=int64)\n",
            "112\n",
            "tf.Tensor(b'I have been known to fall asleep during films, but this is usually due to a combination of things including, really tired, being warm and comfortable on the sette and having just eaten a lot. However on this occasion I fell asleep because the film was rubbish. The plot development was constant. Constantly slow and boring. Things seemed to happen, but with no explanation of what was causing them or why. I admit, I may have missed part of the film, but i watched the majority of it and everything just seemed to happen of its own accord without any real concern for anything else. I cant recommend this film at all.', shape=(), dtype=string)\n",
            "tf.Tensor(0, shape=(), dtype=int64)\n",
            "132\n",
            "tf.Tensor(b'Mann photographs the Alberta Rocky Mountains in a superb fashion, and Jimmy Stewart and Walter Brennan give enjoyable performances as they always seem to do. <br /><br />But come on Hollywood - a Mountie telling the people of Dawson City, Yukon to elect themselves a marshal (yes a marshal!) and to enforce the law themselves, then gunfighters battling it out on the streets for control of the town? <br /><br />Nothing even remotely resembling that happened on the Canadian side of the border during the Klondike gold rush. Mr. Mann and company appear to have mistaken Dawson City for Deadwood, the Canadian North for the American Wild West.<br /><br />Canadian viewers be prepared for a Reefer Madness type of enjoyable howl with this ludicrous plot, or, to shake your head in disgust.', shape=(), dtype=string)\n",
            "tf.Tensor(0, shape=(), dtype=int64)\n",
            "88\n",
            "tf.Tensor(b'This is the kind of film for a snowy Sunday afternoon when the rest of the world can go ahead with its own business as you descend into a big arm-chair and mellow for a couple of hours. Wonderful performances from Cher and Nicolas Cage (as always) gently row the plot along. There are no rapids to cross, no dangerous waters, just a warm and witty paddle through New York life at its best. A family film in every sense and one that deserves the praise it received.', shape=(), dtype=string)\n",
            "tf.Tensor(1, shape=(), dtype=int64)\n",
            "81\n",
            "tf.Tensor(b'As others have mentioned, all the women that go nude in this film are mostly absolutely gorgeous. The plot very ably shows the hypocrisy of the female libido. When men are around they want to be pursued, but when no \"men\" are around, they become the pursuers of a 14 year old boy. And the boy becomes a man really fast (we should all be so lucky at this age!). He then gets up the courage to pursue his true love.', shape=(), dtype=string)\n",
            "tf.Tensor(1, shape=(), dtype=int64)\n"
          ]
        }
      ]
    },
    {
      "cell_type": "markdown",
      "source": [
        "As shown above two sentiments positive and negative for a given review"
      ],
      "metadata": {
        "id": "_kXIKTp_0__w"
      }
    },
    {
      "cell_type": "markdown",
      "source": [
        "    \"<[^>]+>\" is a regular expression that matches HTML tags:\n",
        "\n",
        "    < matches the opening angle bracket\n",
        "\n",
        "    [^>]+ matches one or more characters that are NOT closing angle brackets\n",
        "\n",
        "    > matches the closing angle bracket"
      ],
      "metadata": {
        "id": "aJ8zDjiV23SP"
      }
    },
    {
      "cell_type": "markdown",
      "source": [
        "    Pattern: \"[%s]\" % re.escape(string.punctuation) creates a regex pattern that matches any punctuation character\n",
        "\n",
        "    string.punctuation is a string containing all common punctuation marks (!\"#$%&'()*+,-./:;<=>?@[\\]^_{|}~`)\n",
        "\n",
        "    re.escape() ensures special regex characters are properly escaped\n",
        "\n",
        "    The [ ] makes it a character class, meaning \"match any of these characters\""
      ],
      "metadata": {
        "id": "9J0Mgcs028os"
      }
    },
    {
      "cell_type": "code",
      "source": [
        "def standardization(input_data):\n",
        "  \"\"\"\n",
        "  Input: raw reviews may be fetched from any API, website scrapped, or anything else\n",
        "  Output: standardized reviews\n",
        "  \"\"\"\n",
        "  lowercase=tf.strings.lower(input_data) # convert to lowercase\n",
        "  no_tag=tf.strings.regex_replace(lowercase,\"<[^>]+>\",\"\") # replace html tags with nothing\n",
        "  output=tf.strings.regex_replace(no_tag,\"[%s]\"%re.escape(string.punctuation),\"\") # replace punctuation symbols with \"\" nothing\n",
        "  return output"
      ],
      "metadata": {
        "id": "afqlKHA80t26"
      },
      "execution_count": 4,
      "outputs": []
    },
    {
      "cell_type": "code",
      "source": [
        "standardization(tf.constant(\"<u>In the movie?, </u>man called Tévèz, went to a friend’s pl**ce and they had a tensed discussion. I don’t love this movie! would you?<br> <br /><br />T\"))"
      ],
      "metadata": {
        "colab": {
          "base_uri": "https://localhost:8080/"
        },
        "id": "zVAwy5mx13bg",
        "outputId": "2f87f62d-6b85-407b-e61d-9f4c38bd7317"
      },
      "execution_count": 5,
      "outputs": [
        {
          "output_type": "execute_result",
          "data": {
            "text/plain": [
              "<tf.Tensor: shape=(), dtype=string, numpy=b'in the movie man called t\\xc3\\xa9v\\xc3\\xa8z went to a friend\\xe2\\x80\\x99s plce and they had a tensed discussion i don\\xe2\\x80\\x99t love this movie would you t'>"
            ]
          },
          "metadata": {},
          "execution_count": 5
        }
      ]
    },
    {
      "cell_type": "code",
      "source": [
        "VOCAB_SIZE=10000\n",
        "SEQUENCE_LENGTH=250\n",
        "EMBEDDING_DIM=300"
      ],
      "metadata": {
        "id": "ZHUbo-4735x4"
      },
      "execution_count": 6,
      "outputs": []
    },
    {
      "cell_type": "markdown",
      "source": [
        "Tokenization and numericalization have been wrapped into just one layer of `tf` `TextVectorization layer`"
      ],
      "metadata": {
        "id": "Q8HCs0i546xk"
      }
    },
    {
      "cell_type": "markdown",
      "source": [
        "We have created our custom standardize function, we could have used ![image.png](data:image/png;base64,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)"
      ],
      "metadata": {
        "id": "UD8hAFto5eDx"
      }
    },
    {
      "cell_type": "code",
      "source": [
        "vectorize_layer=TextVectorization(\n",
        "    standardize=standardization,\n",
        "    max_tokens=VOCAB_SIZE,\n",
        "    # output_mode='int',\n",
        "    output_mode='multi_hot' #-> ONE HOT REPRESENTATION\n",
        "    # output_sequence_length=SEQUENCE_LENGTH\n",
        ")"
      ],
      "metadata": {
        "id": "gx8HfPEC2A5x"
      },
      "execution_count": 7,
      "outputs": []
    },
    {
      "cell_type": "code",
      "source": [
        "vectorize_layer=TextVectorization(\n",
        "    standardize=standardization,\n",
        "    max_tokens=VOCAB_SIZE,\n",
        "    output_mode='int',\n",
        "    # output_mode='multi_hot' #-> ONE HOT REPRESENTATION\n",
        "    output_sequence_length=SEQUENCE_LENGTH\n",
        ")"
      ],
      "metadata": {
        "id": "cgDopTuyG6MR"
      },
      "execution_count": 8,
      "outputs": []
    },
    {
      "cell_type": "markdown",
      "source": [
        "To simply not guess the VOCAB_SIZE and SEQUENCE_LENGTH take a deeper look into the dataset"
      ],
      "metadata": {
        "id": "WS1fckKV-HY0"
      }
    },
    {
      "cell_type": "code",
      "source": [
        "lengths=[] # length of each reviews that is the number of words\n",
        "words=[] # will contain the vocabulary words from the first 10 reviews\n",
        "for review,label in train_ds.take(100):\n",
        "    # for word in tf.strings.split(review,sep=\" \"):\n",
        "    #   if word in words:\n",
        "    #     pass\n",
        "    #   else:\n",
        "    #     words.append(word)\n",
        "    lengths.append(len(tf.strings.split(review,sep=\" \")))"
      ],
      "metadata": {
        "id": "Irga5Loj8oAy"
      },
      "execution_count": 9,
      "outputs": []
    },
    {
      "cell_type": "code",
      "source": [
        "print(lengths)#,words"
      ],
      "metadata": {
        "colab": {
          "base_uri": "https://localhost:8080/"
        },
        "collapsed": true,
        "id": "xJAlrA3w-S4k",
        "outputId": "e73496b3-34fc-49fd-bc47-2603d75a1fd7"
      },
      "execution_count": 10,
      "outputs": [
        {
          "output_type": "stream",
          "name": "stdout",
          "text": [
            "[116, 112, 132, 88, 81, 289, 557, 111, 223, 127, 164, 277, 545, 141, 332, 84, 312, 420, 267, 333, 186, 306, 255, 118, 196, 128, 169, 160, 163, 148, 229, 484, 207, 111, 81, 218, 121, 188, 106, 127, 128, 450, 454, 94, 145, 103, 170, 481, 192, 280, 70, 231, 39, 233, 136, 136, 289, 714, 209, 155, 161, 257, 235, 151, 277, 122, 264, 98, 177, 413, 251, 71, 115, 50, 170, 121, 367, 126, 163, 168, 133, 92, 745, 140, 184, 255, 64, 263, 188, 136, 161, 545, 77, 55, 863, 117, 68, 159, 138, 125]\n"
          ]
        }
      ]
    },
    {
      "cell_type": "code",
      "source": [
        "np.mean(lengths)"
      ],
      "metadata": {
        "colab": {
          "base_uri": "https://localhost:8080/"
        },
        "id": "lHMRxnrbA9aV",
        "outputId": "b37f4915-2b04-404e-f6e2-84549a5a2c3a"
      },
      "execution_count": 11,
      "outputs": [
        {
          "output_type": "execute_result",
          "data": {
            "text/plain": [
              "np.float64(213.86)"
            ]
          },
          "metadata": {},
          "execution_count": 11
        }
      ]
    },
    {
      "cell_type": "markdown",
      "source": [
        "Average comes out to be `213` so we can take `SEQUENCE_LENGTH=250`"
      ],
      "metadata": {
        "id": "MgCngGGcBAPz"
      }
    },
    {
      "cell_type": "markdown",
      "source": [
        "Now we want this TextVectorization layer to adapt to our dataset that is analyzes the text data to build a vocabulary (mapping tokens like words or characters to integer indices)"
      ],
      "metadata": {
        "id": "_nBoM2dYBVy7"
      }
    },
    {
      "cell_type": "code",
      "source": [
        "training_data=train_ds.map(lambda x,y:x) # review, label : review\n",
        "vectorize_layer.adapt(training_data)"
      ],
      "metadata": {
        "id": "pC2my_HG4HH6"
      },
      "execution_count": null,
      "outputs": []
    },
    {
      "cell_type": "code",
      "source": [
        "vectorize_layer.get_vocabulary()"
      ],
      "metadata": {
        "collapsed": true,
        "id": "9MbRRJcCB-vG"
      },
      "execution_count": null,
      "outputs": []
    },
    {
      "cell_type": "code",
      "source": [
        "len(vectorize_layer.get_vocabulary())"
      ],
      "metadata": {
        "id": "ZPaykiLl4TO_"
      },
      "execution_count": null,
      "outputs": []
    },
    {
      "cell_type": "code",
      "source": [
        "def vectorizer(review,label):\n",
        "  return vectorize_layer(review),label"
      ],
      "metadata": {
        "id": "rsMpDTy34cf4"
      },
      "execution_count": null,
      "outputs": []
    },
    {
      "cell_type": "code",
      "source": [
        "train_dataset=train_ds.map(vectorizer)\n",
        "val_dataset=val_ds.map(vectorizer)"
      ],
      "metadata": {
        "id": "p_KiXp4C4hxQ"
      },
      "execution_count": null,
      "outputs": []
    },
    {
      "cell_type": "code",
      "source": [
        "for i in range(1,20):\n",
        "  print(f\"{vectorize_layer.get_vocabulary()[i]} -> {i}\")"
      ],
      "metadata": {
        "id": "PG7Onwv-6esc"
      },
      "execution_count": null,
      "outputs": []
    },
    {
      "cell_type": "markdown",
      "source": [
        "![image.png](data:image/png;base64,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)"
      ],
      "metadata": {
        "id": "Pcw5czPVHmP3"
      }
    },
    {
      "cell_type": "code",
      "source": [
        "for review,label in train_dataset.take(1):\n",
        "  print(review)# there are zeros due to padding\n",
        "  print(len(review))\n",
        "  print(label)"
      ],
      "metadata": {
        "id": "ToxiCfPv4n5p"
      },
      "execution_count": null,
      "outputs": []
    },
    {
      "cell_type": "markdown",
      "source": [
        "Now we get a numericalized version of our review text"
      ],
      "metadata": {
        "id": "_8uS9YBmCwYB"
      }
    },
    {
      "cell_type": "code",
      "source": [
        "for review, label in train_ds.take(1):\n",
        "  print(review)\n",
        "  print(label)"
      ],
      "metadata": {
        "collapsed": true,
        "id": "dB07Wi_1DL82"
      },
      "execution_count": null,
      "outputs": []
    },
    {
      "cell_type": "code",
      "source": [
        "vectorize_layer.get_vocabulary()[10],vectorize_layer.get_vocabulary()[13],vectorize_layer.get_vocabulary()[33],vectorize_layer.get_vocabulary()[411]"
      ],
      "metadata": {
        "id": "A2o6ASiKC2RY"
      },
      "execution_count": null,
      "outputs": []
    },
    {
      "cell_type": "code",
      "source": [
        "BATCH_SIZE=64"
      ],
      "metadata": {
        "id": "S_RqHw0O576k"
      },
      "execution_count": null,
      "outputs": []
    },
    {
      "cell_type": "markdown",
      "source": [
        "- Prefetching for efficient loading\n",
        "\n",
        "    - This code batches the training (train_dataset) and validation (val_dataset) datasets into groups of size BATCH_SIZE for efficient GPU processing and uses prefetch with tf.data.AUTOTUNE to overlap data preprocessing and model execution, improving training speed by loading the next batch of data in the background while the current batch is being processed by the model."
      ],
      "metadata": {
        "id": "tAULPmtQEreX"
      }
    },
    {
      "cell_type": "code",
      "source": [
        "train_dataset=train_dataset.batch(BATCH_SIZE).prefetch(buffer_size=tf.data.AUTOTUNE)\n",
        "val_dataset=val_dataset.batch(BATCH_SIZE).prefetch(buffer_size=tf.data.AUTOTUNE)"
      ],
      "metadata": {
        "id": "8Zb-TWvX5Ye8"
      },
      "execution_count": null,
      "outputs": []
    },
    {
      "cell_type": "markdown",
      "source": [
        "## Modelling\n"
      ],
      "metadata": {
        "id": "IrgnePjT4rRE"
      }
    },
    {
      "cell_type": "markdown",
      "source": [
        "### SimpleRNN"
      ],
      "metadata": {
        "id": "0qsnEGV49Rn0"
      }
    },
    {
      "cell_type": "code",
      "source": [
        "#               [BatchSize,SeqLength,VocabSize]\n",
        "inputs=np.random.random([32,10,8]).astype(np.float32)\n",
        "simple_rnn=tf.keras.layers.SimpleRNN(25) # output dimension of the SimpleRNN's output will be 25, # dimension of weight\n",
        "output=simple_rnn(inputs)\n",
        "print(output.shape)# 32 batches each of dimension 25"
      ],
      "metadata": {
        "id": "MyI1hpcc9TF6"
      },
      "execution_count": null,
      "outputs": []
    },
    {
      "cell_type": "markdown",
      "source": [
        "10 words of 8 dimensions each\n",
        "\n",
        "L1, L2, L3, L4, L5, L6, L7, L8, L9, L10 each of which are 8 dimensional vectors"
      ],
      "metadata": {
        "id": "-gH2OznwIQXh"
      }
    },
    {
      "cell_type": "code",
      "source": [
        "output"
      ],
      "metadata": {
        "collapsed": true,
        "id": "nJHfMR4y9ibI"
      },
      "execution_count": null,
      "outputs": []
    },
    {
      "cell_type": "markdown",
      "source": [
        "* RNN doesn't take in integers\n",
        "\n",
        "* Embedding layer will take our current integer vector representation and will give floating points"
      ],
      "metadata": {
        "id": "poZuZCRnUy_9"
      }
    },
    {
      "cell_type": "code",
      "source": [
        "EMBEDDING_DIM=64\n",
        "model=tf.keras.models.Sequential([\n",
        "    Input(shape=(SEQUENCE_LENGTH,)), # we had shape as (250,)\n",
        "    Embedding(VOCAB_SIZE,EMBEDDING_DIM), # Embedding layer added (Vocab_size->Input dimension ,Embedding Dim->output dimension, what we want our final vectors to be)\n",
        "    # our input having initially dimension  VOCAB_SIZE will get transformed to EMBEDDING_DIM dimensional vector\n",
        "    SimpleRNN(32),# output of dimension 32\n",
        "    Dense(1,activation=\"sigmoid\"), # final output 1 dimensional\n",
        "])\n",
        "model.summary()"
      ],
      "metadata": {
        "id": "6fvx7umK_oXP"
      },
      "execution_count": null,
      "outputs": []
    },
    {
      "cell_type": "code",
      "source": [
        "checkpoint_filepath=\"/content/drive/MyDrive/nlp/sentiment_analysis/rnn.h5\"\n",
        "model_checkpoint_callback=tf.keras.callbacks.ModelCheckpoint(\n",
        "    filepath=checkpoint_filepath,\n",
        "    monitor=\"val_accuracy\",\n",
        "    mode='max',\n",
        "    save_best_only=True\n",
        ")"
      ],
      "metadata": {
        "id": "yWmWPKazAQxH"
      },
      "execution_count": null,
      "outputs": []
    },
    {
      "cell_type": "code",
      "source": [
        "model.compile(loss=tf.keras.losses.BinaryCrossentropy(), # output can be negative or positive review that is binary classification\n",
        "              optimizer=tf.keras.optimizers.Adam(1e-4),# learning rate\n",
        "              metrics=['accuracy'])"
      ],
      "metadata": {
        "id": "V7mwA-opW1px"
      },
      "execution_count": null,
      "outputs": []
    },
    {
      "cell_type": "code",
      "source": [
        "history=model.fit(train_dataset,validation_data=val_dataset,\n",
        "                  epochs=10,\n",
        "                  callbacks=[model_checkpoint_callback])"
      ],
      "metadata": {
        "id": "yV-i_SsuXES3"
      },
      "execution_count": null,
      "outputs": []
    },
    {
      "cell_type": "code",
      "source": [],
      "metadata": {
        "id": "siLuAJxTXQQA"
      },
      "execution_count": null,
      "outputs": []
    }
  ]
}